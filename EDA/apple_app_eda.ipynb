{
 "cells": [
  {
   "cell_type": "markdown",
   "metadata": {},
   "source": [
    "## 1.0 About the Author\n",
    "- Project: Apple App Store Data Set Analysis\n",
    "- Author: Asjad Mazahir\n",
    "- Author Contact: asjad_mazahir@live.com"
   ]
  },
  {
   "cell_type": "markdown",
   "metadata": {},
   "source": [
    "## 2.0 Objective of the Project\n",
    "- To perform Data Cleaning and Prepare it for EDA\n",
    "- To gain useful business insights from the data"
   ]
  },
  {
   "cell_type": "markdown",
   "metadata": {},
   "source": [
    "## 3.0 Importing Libraries\n",
    "Following libraries will be used for EDA\n",
    "1. Numpy\n",
    "2. Pandas\n",
    "3. Matplotlib\n",
    "4. Seaborn"
   ]
  },
  {
   "cell_type": "code",
   "execution_count": 1,
   "metadata": {},
   "outputs": [],
   "source": [
    "import numpy as np\n",
    "import pandas as pd\n",
    "import matplotlib.pyplot as plt\n",
    "import seaborn as sns\n",
    "%matplotlib inline"
   ]
  },
  {
   "cell_type": "markdown",
   "metadata": {},
   "source": [
    "## 4.0 Loading and Preparing the data for EDA"
   ]
  },
  {
   "cell_type": "code",
   "execution_count": 2,
   "metadata": {},
   "outputs": [],
   "source": [
    "# Loading the csv file\n",
    "df = pd.read_csv('../DataSets/appleAppData.csv')"
   ]
  },
  {
   "cell_type": "code",
   "execution_count": 3,
   "metadata": {},
   "outputs": [],
   "source": [
    "# Displaying all the columns\n",
    "pd.set_option('display.max_columns', None)"
   ]
  },
  {
   "cell_type": "code",
   "execution_count": 4,
   "metadata": {},
   "outputs": [
    {
     "data": {
      "text/html": [
       "<div>\n",
       "<style scoped>\n",
       "    .dataframe tbody tr th:only-of-type {\n",
       "        vertical-align: middle;\n",
       "    }\n",
       "\n",
       "    .dataframe tbody tr th {\n",
       "        vertical-align: top;\n",
       "    }\n",
       "\n",
       "    .dataframe thead th {\n",
       "        text-align: right;\n",
       "    }\n",
       "</style>\n",
       "<table border=\"1\" class=\"dataframe\">\n",
       "  <thead>\n",
       "    <tr style=\"text-align: right;\">\n",
       "      <th></th>\n",
       "      <th>App_Id</th>\n",
       "      <th>App_Name</th>\n",
       "      <th>AppStore_Url</th>\n",
       "      <th>Primary_Genre</th>\n",
       "      <th>Content_Rating</th>\n",
       "      <th>Size_Bytes</th>\n",
       "      <th>Required_IOS_Version</th>\n",
       "      <th>Released</th>\n",
       "      <th>Updated</th>\n",
       "      <th>Version</th>\n",
       "      <th>Price</th>\n",
       "      <th>Currency</th>\n",
       "      <th>Free</th>\n",
       "      <th>DeveloperId</th>\n",
       "      <th>Developer</th>\n",
       "      <th>Developer_Url</th>\n",
       "      <th>Developer_Website</th>\n",
       "      <th>Average_User_Rating</th>\n",
       "      <th>Reviews</th>\n",
       "      <th>Current_Version_Score</th>\n",
       "      <th>Current_Version_Reviews</th>\n",
       "    </tr>\n",
       "  </thead>\n",
       "  <tbody>\n",
       "    <tr>\n",
       "      <th>0</th>\n",
       "      <td>com.hkbu.arc.apaper</td>\n",
       "      <td>A+ Paper Guide</td>\n",
       "      <td>https://apps.apple.com/us/app/a-paper-guide/id...</td>\n",
       "      <td>Education</td>\n",
       "      <td>4+</td>\n",
       "      <td>21993472.0</td>\n",
       "      <td>8.0</td>\n",
       "      <td>2017-09-28T03:02:41Z</td>\n",
       "      <td>2018-12-21T21:30:36Z</td>\n",
       "      <td>1.1.2</td>\n",
       "      <td>0.00</td>\n",
       "      <td>USD</td>\n",
       "      <td>True</td>\n",
       "      <td>1375410542</td>\n",
       "      <td>HKBU ARC</td>\n",
       "      <td>https://apps.apple.com/us/developer/hkbu-arc/i...</td>\n",
       "      <td>NaN</td>\n",
       "      <td>0.0</td>\n",
       "      <td>0</td>\n",
       "      <td>0.0</td>\n",
       "      <td>0</td>\n",
       "    </tr>\n",
       "    <tr>\n",
       "      <th>1</th>\n",
       "      <td>com.dmitriev.abooks</td>\n",
       "      <td>A-Books</td>\n",
       "      <td>https://apps.apple.com/us/app/a-books/id103157...</td>\n",
       "      <td>Book</td>\n",
       "      <td>4+</td>\n",
       "      <td>13135872.0</td>\n",
       "      <td>10.0</td>\n",
       "      <td>2015-08-31T19:31:32Z</td>\n",
       "      <td>2019-07-23T20:31:09Z</td>\n",
       "      <td>1.3</td>\n",
       "      <td>0.00</td>\n",
       "      <td>USD</td>\n",
       "      <td>True</td>\n",
       "      <td>1031572001</td>\n",
       "      <td>Roman Dmitriev</td>\n",
       "      <td>https://apps.apple.com/us/developer/roman-dmit...</td>\n",
       "      <td>NaN</td>\n",
       "      <td>5.0</td>\n",
       "      <td>1</td>\n",
       "      <td>5.0</td>\n",
       "      <td>1</td>\n",
       "    </tr>\n",
       "    <tr>\n",
       "      <th>2</th>\n",
       "      <td>no.terp.abooks</td>\n",
       "      <td>A-books</td>\n",
       "      <td>https://apps.apple.com/us/app/a-books/id145702...</td>\n",
       "      <td>Book</td>\n",
       "      <td>4+</td>\n",
       "      <td>21943296.0</td>\n",
       "      <td>9.0</td>\n",
       "      <td>2021-04-14T07:00:00Z</td>\n",
       "      <td>2021-05-30T21:08:54Z</td>\n",
       "      <td>1.3.1</td>\n",
       "      <td>0.00</td>\n",
       "      <td>USD</td>\n",
       "      <td>True</td>\n",
       "      <td>1457024163</td>\n",
       "      <td>Terp AS</td>\n",
       "      <td>https://apps.apple.com/us/developer/terp-as/id...</td>\n",
       "      <td>NaN</td>\n",
       "      <td>0.0</td>\n",
       "      <td>0</td>\n",
       "      <td>0.0</td>\n",
       "      <td>0</td>\n",
       "    </tr>\n",
       "    <tr>\n",
       "      <th>3</th>\n",
       "      <td>fr.antoinettefleur.Book1</td>\n",
       "      <td>A-F Book #1</td>\n",
       "      <td>https://apps.apple.com/us/app/a-f-book-1/id500...</td>\n",
       "      <td>Book</td>\n",
       "      <td>4+</td>\n",
       "      <td>81851392.0</td>\n",
       "      <td>8.0</td>\n",
       "      <td>2012-02-10T03:40:07Z</td>\n",
       "      <td>2019-10-29T12:40:37Z</td>\n",
       "      <td>1.2</td>\n",
       "      <td>2.99</td>\n",
       "      <td>USD</td>\n",
       "      <td>False</td>\n",
       "      <td>439568839</td>\n",
       "      <td>i-editeur.com</td>\n",
       "      <td>https://apps.apple.com/us/developer/i-editeur-...</td>\n",
       "      <td>NaN</td>\n",
       "      <td>0.0</td>\n",
       "      <td>0</td>\n",
       "      <td>0.0</td>\n",
       "      <td>0</td>\n",
       "    </tr>\n",
       "    <tr>\n",
       "      <th>4</th>\n",
       "      <td>com.imonstersoft.azdictionaryios</td>\n",
       "      <td>A-Z Synonyms Dictionary</td>\n",
       "      <td>https://apps.apple.com/us/app/a-z-synonyms-dic...</td>\n",
       "      <td>Reference</td>\n",
       "      <td>4+</td>\n",
       "      <td>64692224.0</td>\n",
       "      <td>9.0</td>\n",
       "      <td>2020-12-16T08:00:00Z</td>\n",
       "      <td>2020-12-18T21:36:11Z</td>\n",
       "      <td>1.0.1</td>\n",
       "      <td>0.00</td>\n",
       "      <td>USD</td>\n",
       "      <td>True</td>\n",
       "      <td>656731821</td>\n",
       "      <td>Ngov chiheang</td>\n",
       "      <td>https://apps.apple.com/us/developer/ngov-chihe...</td>\n",
       "      <td>http://imonstersoft.com</td>\n",
       "      <td>0.0</td>\n",
       "      <td>0</td>\n",
       "      <td>0.0</td>\n",
       "      <td>0</td>\n",
       "    </tr>\n",
       "  </tbody>\n",
       "</table>\n",
       "</div>"
      ],
      "text/plain": [
       "                             App_Id                 App_Name  \\\n",
       "0               com.hkbu.arc.apaper           A+ Paper Guide   \n",
       "1               com.dmitriev.abooks                  A-Books   \n",
       "2                    no.terp.abooks                  A-books   \n",
       "3          fr.antoinettefleur.Book1              A-F Book #1   \n",
       "4  com.imonstersoft.azdictionaryios  A-Z Synonyms Dictionary   \n",
       "\n",
       "                                        AppStore_Url Primary_Genre  \\\n",
       "0  https://apps.apple.com/us/app/a-paper-guide/id...     Education   \n",
       "1  https://apps.apple.com/us/app/a-books/id103157...          Book   \n",
       "2  https://apps.apple.com/us/app/a-books/id145702...          Book   \n",
       "3  https://apps.apple.com/us/app/a-f-book-1/id500...          Book   \n",
       "4  https://apps.apple.com/us/app/a-z-synonyms-dic...     Reference   \n",
       "\n",
       "  Content_Rating  Size_Bytes Required_IOS_Version              Released  \\\n",
       "0             4+  21993472.0                  8.0  2017-09-28T03:02:41Z   \n",
       "1             4+  13135872.0                 10.0  2015-08-31T19:31:32Z   \n",
       "2             4+  21943296.0                  9.0  2021-04-14T07:00:00Z   \n",
       "3             4+  81851392.0                  8.0  2012-02-10T03:40:07Z   \n",
       "4             4+  64692224.0                  9.0  2020-12-16T08:00:00Z   \n",
       "\n",
       "                Updated Version  Price Currency   Free  DeveloperId  \\\n",
       "0  2018-12-21T21:30:36Z   1.1.2   0.00      USD   True   1375410542   \n",
       "1  2019-07-23T20:31:09Z     1.3   0.00      USD   True   1031572001   \n",
       "2  2021-05-30T21:08:54Z   1.3.1   0.00      USD   True   1457024163   \n",
       "3  2019-10-29T12:40:37Z     1.2   2.99      USD  False    439568839   \n",
       "4  2020-12-18T21:36:11Z   1.0.1   0.00      USD   True    656731821   \n",
       "\n",
       "        Developer                                      Developer_Url  \\\n",
       "0        HKBU ARC  https://apps.apple.com/us/developer/hkbu-arc/i...   \n",
       "1  Roman Dmitriev  https://apps.apple.com/us/developer/roman-dmit...   \n",
       "2         Terp AS  https://apps.apple.com/us/developer/terp-as/id...   \n",
       "3   i-editeur.com  https://apps.apple.com/us/developer/i-editeur-...   \n",
       "4   Ngov chiheang  https://apps.apple.com/us/developer/ngov-chihe...   \n",
       "\n",
       "         Developer_Website  Average_User_Rating  Reviews  \\\n",
       "0                      NaN                  0.0        0   \n",
       "1                      NaN                  5.0        1   \n",
       "2                      NaN                  0.0        0   \n",
       "3                      NaN                  0.0        0   \n",
       "4  http://imonstersoft.com                  0.0        0   \n",
       "\n",
       "   Current_Version_Score  Current_Version_Reviews  \n",
       "0                    0.0                        0  \n",
       "1                    5.0                        1  \n",
       "2                    0.0                        0  \n",
       "3                    0.0                        0  \n",
       "4                    0.0                        0  "
      ]
     },
     "execution_count": 4,
     "metadata": {},
     "output_type": "execute_result"
    }
   ],
   "source": [
    "# Getting quick overview of the data\n",
    "df.head()"
   ]
  },
  {
   "cell_type": "code",
   "execution_count": 5,
   "metadata": {},
   "outputs": [
    {
     "data": {
      "text/plain": [
       "Index(['App_Id', 'App_Name', 'AppStore_Url', 'Primary_Genre', 'Content_Rating',\n",
       "       'Size_Bytes', 'Required_IOS_Version', 'Released', 'Updated', 'Version',\n",
       "       'Price', 'Currency', 'Free', 'DeveloperId', 'Developer',\n",
       "       'Developer_Url', 'Developer_Website', 'Average_User_Rating', 'Reviews',\n",
       "       'Current_Version_Score', 'Current_Version_Reviews'],\n",
       "      dtype='object')"
      ]
     },
     "execution_count": 5,
     "metadata": {},
     "output_type": "execute_result"
    }
   ],
   "source": [
    "# Looking at the column names\n",
    "df.columns"
   ]
  },
  {
   "cell_type": "code",
   "execution_count": 6,
   "metadata": {},
   "outputs": [
    {
     "name": "stdout",
     "output_type": "stream",
     "text": [
      "The dataset has 1230376 rows and 21 columns\n"
     ]
    }
   ],
   "source": [
    "# Looking at the shape of the dataset\n",
    "print(f\"The dataset has {df.shape[0]} rows and {df.shape[1]} columns\")"
   ]
  },
  {
   "cell_type": "code",
   "execution_count": 7,
   "metadata": {},
   "outputs": [
    {
     "name": "stdout",
     "output_type": "stream",
     "text": [
      "<class 'pandas.core.frame.DataFrame'>\n",
      "RangeIndex: 1230376 entries, 0 to 1230375\n",
      "Data columns (total 21 columns):\n",
      " #   Column                   Non-Null Count    Dtype  \n",
      "---  ------                   --------------    -----  \n",
      " 0   App_Id                   1230376 non-null  object \n",
      " 1   App_Name                 1230375 non-null  object \n",
      " 2   AppStore_Url             1230376 non-null  object \n",
      " 3   Primary_Genre            1230376 non-null  object \n",
      " 4   Content_Rating           1230376 non-null  object \n",
      " 5   Size_Bytes               1230152 non-null  float64\n",
      " 6   Required_IOS_Version     1230376 non-null  object \n",
      " 7   Released                 1230373 non-null  object \n",
      " 8   Updated                  1230376 non-null  object \n",
      " 9   Version                  1230376 non-null  object \n",
      " 10  Price                    1229886 non-null  float64\n",
      " 11  Currency                 1230376 non-null  object \n",
      " 12  Free                     1230376 non-null  bool   \n",
      " 13  DeveloperId              1230376 non-null  int64  \n",
      " 14  Developer                1230376 non-null  object \n",
      " 15  Developer_Url            1229267 non-null  object \n",
      " 16  Developer_Website        586388 non-null   object \n",
      " 17  Average_User_Rating      1230376 non-null  float64\n",
      " 18  Reviews                  1230376 non-null  int64  \n",
      " 19  Current_Version_Score    1230376 non-null  float64\n",
      " 20  Current_Version_Reviews  1230376 non-null  int64  \n",
      "dtypes: bool(1), float64(4), int64(3), object(13)\n",
      "memory usage: 188.9+ MB\n"
     ]
    }
   ],
   "source": [
    "df.info()"
   ]
  },
  {
   "cell_type": "code",
   "execution_count": 8,
   "metadata": {},
   "outputs": [
    {
     "data": {
      "text/html": [
       "<div>\n",
       "<style scoped>\n",
       "    .dataframe tbody tr th:only-of-type {\n",
       "        vertical-align: middle;\n",
       "    }\n",
       "\n",
       "    .dataframe tbody tr th {\n",
       "        vertical-align: top;\n",
       "    }\n",
       "\n",
       "    .dataframe thead th {\n",
       "        text-align: right;\n",
       "    }\n",
       "</style>\n",
       "<table border=\"1\" class=\"dataframe\">\n",
       "  <thead>\n",
       "    <tr style=\"text-align: right;\">\n",
       "      <th></th>\n",
       "      <th>Size_Bytes</th>\n",
       "      <th>Price</th>\n",
       "      <th>DeveloperId</th>\n",
       "      <th>Average_User_Rating</th>\n",
       "      <th>Reviews</th>\n",
       "      <th>Current_Version_Score</th>\n",
       "      <th>Current_Version_Reviews</th>\n",
       "    </tr>\n",
       "  </thead>\n",
       "  <tbody>\n",
       "    <tr>\n",
       "      <th>count</th>\n",
       "      <td>1.230152e+06</td>\n",
       "      <td>1.229886e+06</td>\n",
       "      <td>1.230376e+06</td>\n",
       "      <td>1.230376e+06</td>\n",
       "      <td>1.230376e+06</td>\n",
       "      <td>1.230376e+06</td>\n",
       "      <td>1.230376e+06</td>\n",
       "    </tr>\n",
       "    <tr>\n",
       "      <th>mean</th>\n",
       "      <td>7.510857e+07</td>\n",
       "      <td>5.041264e-01</td>\n",
       "      <td>1.092869e+09</td>\n",
       "      <td>1.788387e+00</td>\n",
       "      <td>8.259478e+02</td>\n",
       "      <td>1.788387e+00</td>\n",
       "      <td>8.259478e+02</td>\n",
       "    </tr>\n",
       "    <tr>\n",
       "      <th>std</th>\n",
       "      <td>2.318726e+08</td>\n",
       "      <td>6.869674e+00</td>\n",
       "      <td>4.090897e+08</td>\n",
       "      <td>2.154105e+00</td>\n",
       "      <td>5.016051e+04</td>\n",
       "      <td>2.154105e+00</td>\n",
       "      <td>5.016051e+04</td>\n",
       "    </tr>\n",
       "    <tr>\n",
       "      <th>min</th>\n",
       "      <td>2.762800e+04</td>\n",
       "      <td>0.000000e+00</td>\n",
       "      <td>2.816565e+08</td>\n",
       "      <td>0.000000e+00</td>\n",
       "      <td>0.000000e+00</td>\n",
       "      <td>0.000000e+00</td>\n",
       "      <td>0.000000e+00</td>\n",
       "    </tr>\n",
       "    <tr>\n",
       "      <th>25%</th>\n",
       "      <td>2.041344e+07</td>\n",
       "      <td>0.000000e+00</td>\n",
       "      <td>7.381109e+08</td>\n",
       "      <td>0.000000e+00</td>\n",
       "      <td>0.000000e+00</td>\n",
       "      <td>0.000000e+00</td>\n",
       "      <td>0.000000e+00</td>\n",
       "    </tr>\n",
       "    <tr>\n",
       "      <th>50%</th>\n",
       "      <td>4.333158e+07</td>\n",
       "      <td>0.000000e+00</td>\n",
       "      <td>1.179711e+09</td>\n",
       "      <td>0.000000e+00</td>\n",
       "      <td>0.000000e+00</td>\n",
       "      <td>0.000000e+00</td>\n",
       "      <td>0.000000e+00</td>\n",
       "    </tr>\n",
       "    <tr>\n",
       "      <th>75%</th>\n",
       "      <td>8.365466e+07</td>\n",
       "      <td>0.000000e+00</td>\n",
       "      <td>1.471960e+09</td>\n",
       "      <td>4.333330e+00</td>\n",
       "      <td>3.000000e+00</td>\n",
       "      <td>4.333330e+00</td>\n",
       "      <td>3.000000e+00</td>\n",
       "    </tr>\n",
       "    <tr>\n",
       "      <th>max</th>\n",
       "      <td>7.677945e+10</td>\n",
       "      <td>9.999900e+02</td>\n",
       "      <td>1.590233e+09</td>\n",
       "      <td>5.000000e+00</td>\n",
       "      <td>2.268533e+07</td>\n",
       "      <td>5.000000e+00</td>\n",
       "      <td>2.268533e+07</td>\n",
       "    </tr>\n",
       "  </tbody>\n",
       "</table>\n",
       "</div>"
      ],
      "text/plain": [
       "         Size_Bytes         Price   DeveloperId  Average_User_Rating  \\\n",
       "count  1.230152e+06  1.229886e+06  1.230376e+06         1.230376e+06   \n",
       "mean   7.510857e+07  5.041264e-01  1.092869e+09         1.788387e+00   \n",
       "std    2.318726e+08  6.869674e+00  4.090897e+08         2.154105e+00   \n",
       "min    2.762800e+04  0.000000e+00  2.816565e+08         0.000000e+00   \n",
       "25%    2.041344e+07  0.000000e+00  7.381109e+08         0.000000e+00   \n",
       "50%    4.333158e+07  0.000000e+00  1.179711e+09         0.000000e+00   \n",
       "75%    8.365466e+07  0.000000e+00  1.471960e+09         4.333330e+00   \n",
       "max    7.677945e+10  9.999900e+02  1.590233e+09         5.000000e+00   \n",
       "\n",
       "            Reviews  Current_Version_Score  Current_Version_Reviews  \n",
       "count  1.230376e+06           1.230376e+06             1.230376e+06  \n",
       "mean   8.259478e+02           1.788387e+00             8.259478e+02  \n",
       "std    5.016051e+04           2.154105e+00             5.016051e+04  \n",
       "min    0.000000e+00           0.000000e+00             0.000000e+00  \n",
       "25%    0.000000e+00           0.000000e+00             0.000000e+00  \n",
       "50%    0.000000e+00           0.000000e+00             0.000000e+00  \n",
       "75%    3.000000e+00           4.333330e+00             3.000000e+00  \n",
       "max    2.268533e+07           5.000000e+00             2.268533e+07  "
      ]
     },
     "execution_count": 8,
     "metadata": {},
     "output_type": "execute_result"
    }
   ],
   "source": [
    "# Here we get to know that we have seven numeric attributes. We can also see only numeric columns by df.describe function\n",
    "df.describe()"
   ]
  },
  {
   "cell_type": "code",
   "execution_count": 9,
   "metadata": {},
   "outputs": [
    {
     "data": {
      "text/plain": [
       "Developer_Website          643988\n",
       "Developer_Url                1109\n",
       "Price                         490\n",
       "Size_Bytes                    224\n",
       "Released                        3\n",
       "App_Name                        1\n",
       "Free                            0\n",
       "Current_Version_Score           0\n",
       "Reviews                         0\n",
       "Average_User_Rating             0\n",
       "Developer                       0\n",
       "DeveloperId                     0\n",
       "App_Id                          0\n",
       "Currency                        0\n",
       "Version                         0\n",
       "Updated                         0\n",
       "Required_IOS_Version            0\n",
       "Content_Rating                  0\n",
       "Primary_Genre                   0\n",
       "AppStore_Url                    0\n",
       "Current_Version_Reviews         0\n",
       "dtype: int64"
      ]
     },
     "execution_count": 9,
     "metadata": {},
     "output_type": "execute_result"
    }
   ],
   "source": [
    "# DeveloperId is unique code rather than number so we ignore it\n",
    "# Now we look for the missing values\n",
    "df.isnull().sum().sort_values(ascending=False)"
   ]
  },
  {
   "cell_type": "code",
   "execution_count": 10,
   "metadata": {},
   "outputs": [
    {
     "data": {
      "text/plain": [
       "Developer_Website          52.34\n",
       "Developer_Url               0.09\n",
       "Price                       0.04\n",
       "Size_Bytes                  0.02\n",
       "Currency                    0.00\n",
       "Current_Version_Score       0.00\n",
       "Reviews                     0.00\n",
       "Average_User_Rating         0.00\n",
       "Developer                   0.00\n",
       "DeveloperId                 0.00\n",
       "Free                        0.00\n",
       "App_Id                      0.00\n",
       "App_Name                    0.00\n",
       "Version                     0.00\n",
       "Updated                     0.00\n",
       "Released                    0.00\n",
       "Required_IOS_Version        0.00\n",
       "Content_Rating              0.00\n",
       "Primary_Genre               0.00\n",
       "AppStore_Url                0.00\n",
       "Current_Version_Reviews     0.00\n",
       "dtype: float64"
      ]
     },
     "execution_count": 10,
     "metadata": {},
     "output_type": "execute_result"
    }
   ],
   "source": [
    "# In terms of percentage\n",
    "round(df.isnull().sum()/len(df) * 100, 2).sort_values(ascending=False)"
   ]
  },
  {
   "cell_type": "markdown",
   "metadata": {},
   "source": [
    "Here developer website column has 52 % missing values so we can drop it\\\n",
    "However we are keeping that column for now becasue it may be useful in further analysis"
   ]
  },
  {
   "cell_type": "code",
   "execution_count": 11,
   "metadata": {},
   "outputs": [
    {
     "data": {
      "text/plain": [
       "Developer_Website          643988\n",
       "Developer_Url                1109\n",
       "Released                        3\n",
       "App_Name                        1\n",
       "App_Id                          0\n",
       "Free                            0\n",
       "Current_Version_Score           0\n",
       "Reviews                         0\n",
       "Average_User_Rating             0\n",
       "Developer                       0\n",
       "DeveloperId                     0\n",
       "Price                           0\n",
       "Currency                        0\n",
       "Version                         0\n",
       "Updated                         0\n",
       "Required_IOS_Version            0\n",
       "Size_Bytes                      0\n",
       "Content_Rating                  0\n",
       "Primary_Genre                   0\n",
       "AppStore_Url                    0\n",
       "Current_Version_Reviews         0\n",
       "dtype: int64"
      ]
     },
     "execution_count": 11,
     "metadata": {},
     "output_type": "execute_result"
    }
   ],
   "source": [
    "# Next we handle missing values of Price and Size columns\n",
    "df['Price'] = df.Price.fillna(value=df['Price'].mean())\n",
    "df['Size_Bytes'] = df.Size_Bytes.fillna(value=df['Size_Bytes'].mean())\n",
    "df.isnull().sum().sort_values(ascending = False)\n"
   ]
  },
  {
   "cell_type": "code",
   "execution_count": 12,
   "metadata": {},
   "outputs": [
    {
     "data": {
      "text/html": [
       "<div>\n",
       "<style scoped>\n",
       "    .dataframe tbody tr th:only-of-type {\n",
       "        vertical-align: middle;\n",
       "    }\n",
       "\n",
       "    .dataframe tbody tr th {\n",
       "        vertical-align: top;\n",
       "    }\n",
       "\n",
       "    .dataframe thead th {\n",
       "        text-align: right;\n",
       "    }\n",
       "</style>\n",
       "<table border=\"1\" class=\"dataframe\">\n",
       "  <thead>\n",
       "    <tr style=\"text-align: right;\">\n",
       "      <th></th>\n",
       "      <th>App_Id</th>\n",
       "      <th>App_Name</th>\n",
       "      <th>AppStore_Url</th>\n",
       "      <th>Primary_Genre</th>\n",
       "      <th>Content_Rating</th>\n",
       "      <th>Size_Bytes</th>\n",
       "      <th>Required_IOS_Version</th>\n",
       "      <th>Released</th>\n",
       "      <th>Updated</th>\n",
       "      <th>Version</th>\n",
       "      <th>Price</th>\n",
       "      <th>Currency</th>\n",
       "      <th>Free</th>\n",
       "      <th>DeveloperId</th>\n",
       "      <th>Developer</th>\n",
       "      <th>Developer_Url</th>\n",
       "      <th>Developer_Website</th>\n",
       "      <th>Average_User_Rating</th>\n",
       "      <th>Reviews</th>\n",
       "      <th>Current_Version_Score</th>\n",
       "      <th>Current_Version_Reviews</th>\n",
       "    </tr>\n",
       "  </thead>\n",
       "  <tbody>\n",
       "    <tr>\n",
       "      <th>964888</th>\n",
       "      <td>se.promedia.NA</td>\n",
       "      <td>NaN</td>\n",
       "      <td>https://apps.apple.com/us/app/na/id449134868?uo=4</td>\n",
       "      <td>News</td>\n",
       "      <td>4+</td>\n",
       "      <td>19528704.0</td>\n",
       "      <td>9.0</td>\n",
       "      <td>2011-08-08T11:45:30Z</td>\n",
       "      <td>2020-12-21T14:08:02Z</td>\n",
       "      <td>8.1.2</td>\n",
       "      <td>0.0</td>\n",
       "      <td>USD</td>\n",
       "      <td>True</td>\n",
       "      <td>449134871</td>\n",
       "      <td>Promedia</td>\n",
       "      <td>https://apps.apple.com/us/developer/promedia/i...</td>\n",
       "      <td>https://na.se/app</td>\n",
       "      <td>5.0</td>\n",
       "      <td>1</td>\n",
       "      <td>5.0</td>\n",
       "      <td>1</td>\n",
       "    </tr>\n",
       "  </tbody>\n",
       "</table>\n",
       "</div>"
      ],
      "text/plain": [
       "                App_Id App_Name  \\\n",
       "964888  se.promedia.NA      NaN   \n",
       "\n",
       "                                             AppStore_Url Primary_Genre  \\\n",
       "964888  https://apps.apple.com/us/app/na/id449134868?uo=4          News   \n",
       "\n",
       "       Content_Rating  Size_Bytes Required_IOS_Version              Released  \\\n",
       "964888             4+  19528704.0                  9.0  2011-08-08T11:45:30Z   \n",
       "\n",
       "                     Updated Version  Price Currency  Free  DeveloperId  \\\n",
       "964888  2020-12-21T14:08:02Z   8.1.2    0.0      USD  True    449134871   \n",
       "\n",
       "       Developer                                      Developer_Url  \\\n",
       "964888  Promedia  https://apps.apple.com/us/developer/promedia/i...   \n",
       "\n",
       "        Developer_Website  Average_User_Rating  Reviews  \\\n",
       "964888  https://na.se/app                  5.0        1   \n",
       "\n",
       "        Current_Version_Score  Current_Version_Reviews  \n",
       "964888                    5.0                        1  "
      ]
     },
     "execution_count": 12,
     "metadata": {},
     "output_type": "execute_result"
    }
   ],
   "source": [
    "# dropping the rows where realeased value is null\n",
    "df.dropna(subset=['Released'],inplace=True)\n",
    "# Looking at the missing App_Name\n",
    "df[df['App_Name'].isnull()].head()"
   ]
  },
  {
   "cell_type": "code",
   "execution_count": 13,
   "metadata": {},
   "outputs": [
    {
     "data": {
      "text/plain": [
       "True"
      ]
     },
     "execution_count": 13,
     "metadata": {},
     "output_type": "execute_result"
    }
   ],
   "source": [
    "# Here we can replace missing app name with the app name corresponding to App_Id se.promedia.NA\n",
    "# However App_Id should be unique because app name can be duplicated\n",
    "df['App_Name'].duplicated().any()"
   ]
  },
  {
   "cell_type": "code",
   "execution_count": 14,
   "metadata": {},
   "outputs": [
    {
     "data": {
      "text/plain": [
       "False"
      ]
     },
     "execution_count": 14,
     "metadata": {},
     "output_type": "execute_result"
    }
   ],
   "source": [
    "# Lets check for App_Id\n",
    "df['App_Id'].duplicated().any()"
   ]
  },
  {
   "cell_type": "code",
   "execution_count": 15,
   "metadata": {},
   "outputs": [],
   "source": [
    "# Hence it is better to simply remove row with missing app name\n",
    "df.dropna(subset=['App_Name'],inplace=True)"
   ]
  },
  {
   "cell_type": "markdown",
   "metadata": {},
   "source": [
    "Now we are sure that we have all unique app ids, we will comvert size in bytes to size in mbs since it is more intuitive"
   ]
  },
  {
   "cell_type": "code",
   "execution_count": 16,
   "metadata": {},
   "outputs": [],
   "source": [
    "df['Size_MB'] = df['Size_Bytes'].apply(lambda x: (float(x) / 1024)/1024)"
   ]
  },
  {
   "cell_type": "code",
   "execution_count": 17,
   "metadata": {},
   "outputs": [
    {
     "data": {
      "text/plain": [
       "Index(['App_Id', 'App_Name', 'AppStore_Url', 'Primary_Genre', 'Content_Rating',\n",
       "       'Size_Bytes', 'Required_IOS_Version', 'Released', 'Updated', 'Version',\n",
       "       'Price', 'Currency', 'Free', 'DeveloperId', 'Developer',\n",
       "       'Developer_Url', 'Developer_Website', 'Average_User_Rating', 'Reviews',\n",
       "       'Current_Version_Score', 'Current_Version_Reviews', 'Size_MB'],\n",
       "      dtype='object')"
      ]
     },
     "execution_count": 17,
     "metadata": {},
     "output_type": "execute_result"
    }
   ],
   "source": [
    "df.columns"
   ]
  },
  {
   "cell_type": "markdown",
   "metadata": {},
   "source": [
    "## 5.0 Starting the EDA\n",
    "- Since we have the data as per our requirement, now we can proceed with the EDA.\n",
    "- Here we will raise queries about the data and try to get the answer by data exploration"
   ]
  },
  {
   "cell_type": "markdown",
   "metadata": {},
   "source": [
    "### 5.1 How many app names are duplicated"
   ]
  },
  {
   "cell_type": "code",
   "execution_count": 18,
   "metadata": {},
   "outputs": [
    {
     "data": {
      "text/plain": [
       "App_Name\n",
       "False    1223507\n",
       "True        6865\n",
       "Name: count, dtype: int64"
      ]
     },
     "execution_count": 18,
     "metadata": {},
     "output_type": "execute_result"
    }
   ],
   "source": [
    "df['App_Name'].duplicated().value_counts()"
   ]
  },
  {
   "cell_type": "markdown",
   "metadata": {},
   "source": [
    "### There are 6865 Apps that are duplicated"
   ]
  },
  {
   "cell_type": "code",
   "execution_count": 19,
   "metadata": {},
   "outputs": [],
   "source": [
    "# Creating Type column with \"Free\" and \"Paid\" values for better readability\n",
    "#df['Type'] = df['Free'].apply(lambda x: \"Free\" if x == True else \"Paid\")\n",
    "df['Type'] = np.where(df['Free'] == True,'Free','Paid')\n",
    "df.drop(['Free'],axis=1, inplace= True )"
   ]
  },
  {
   "cell_type": "markdown",
   "metadata": {},
   "source": [
    "### 5.2 What are top 7 apps  w.r.t reviews"
   ]
  },
  {
   "cell_type": "code",
   "execution_count": 20,
   "metadata": {},
   "outputs": [
    {
     "data": {
      "text/html": [
       "<div>\n",
       "<style scoped>\n",
       "    .dataframe tbody tr th:only-of-type {\n",
       "        vertical-align: middle;\n",
       "    }\n",
       "\n",
       "    .dataframe tbody tr th {\n",
       "        vertical-align: top;\n",
       "    }\n",
       "\n",
       "    .dataframe thead th {\n",
       "        text-align: right;\n",
       "    }\n",
       "</style>\n",
       "<table border=\"1\" class=\"dataframe\">\n",
       "  <thead>\n",
       "    <tr style=\"text-align: right;\">\n",
       "      <th></th>\n",
       "      <th>App_Id</th>\n",
       "      <th>App_Name</th>\n",
       "      <th>AppStore_Url</th>\n",
       "      <th>Primary_Genre</th>\n",
       "      <th>Content_Rating</th>\n",
       "      <th>Size_Bytes</th>\n",
       "      <th>Required_IOS_Version</th>\n",
       "      <th>Released</th>\n",
       "      <th>Updated</th>\n",
       "      <th>Version</th>\n",
       "      <th>Price</th>\n",
       "      <th>Currency</th>\n",
       "      <th>DeveloperId</th>\n",
       "      <th>Developer</th>\n",
       "      <th>Developer_Url</th>\n",
       "      <th>Developer_Website</th>\n",
       "      <th>Average_User_Rating</th>\n",
       "      <th>Reviews</th>\n",
       "      <th>Current_Version_Score</th>\n",
       "      <th>Current_Version_Reviews</th>\n",
       "      <th>Size_MB</th>\n",
       "      <th>Type</th>\n",
       "    </tr>\n",
       "  </thead>\n",
       "  <tbody>\n",
       "    <tr>\n",
       "      <th>415817</th>\n",
       "      <td>com.google.ios.youtube</td>\n",
       "      <td>YouTube: Watch, Listen, Stream</td>\n",
       "      <td>https://apps.apple.com/us/app/youtube-watch-li...</td>\n",
       "      <td>Photo &amp; Video</td>\n",
       "      <td>17+</td>\n",
       "      <td>261849088.0</td>\n",
       "      <td>12.0</td>\n",
       "      <td>2012-09-11T07:23:19Z</td>\n",
       "      <td>2021-10-10T23:03:29Z</td>\n",
       "      <td>16.40.3</td>\n",
       "      <td>0.0</td>\n",
       "      <td>USD</td>\n",
       "      <td>281956209</td>\n",
       "      <td>Google LLC</td>\n",
       "      <td>https://apps.apple.com/us/developer/google-llc...</td>\n",
       "      <td>https://www.youtube.com</td>\n",
       "      <td>4.68757</td>\n",
       "      <td>22685334</td>\n",
       "      <td>4.68757</td>\n",
       "      <td>22685334</td>\n",
       "      <td>249.718750</td>\n",
       "      <td>Free</td>\n",
       "    </tr>\n",
       "    <tr>\n",
       "      <th>996310</th>\n",
       "      <td>com.burbn.instagram</td>\n",
       "      <td>Instagram</td>\n",
       "      <td>https://apps.apple.com/us/app/instagram/id3898...</td>\n",
       "      <td>Photo &amp; Video</td>\n",
       "      <td>12+</td>\n",
       "      <td>193046528.0</td>\n",
       "      <td>12.0</td>\n",
       "      <td>2010-10-06T08:12:41Z</td>\n",
       "      <td>2021-10-13T11:48:53Z</td>\n",
       "      <td>209.1</td>\n",
       "      <td>0.0</td>\n",
       "      <td>USD</td>\n",
       "      <td>389801255</td>\n",
       "      <td>Instagram, Inc.</td>\n",
       "      <td>https://apps.apple.com/us/developer/instagram-...</td>\n",
       "      <td>http://instagram.com/</td>\n",
       "      <td>4.74680</td>\n",
       "      <td>21839585</td>\n",
       "      <td>4.74680</td>\n",
       "      <td>21839585</td>\n",
       "      <td>184.103516</td>\n",
       "      <td>Free</td>\n",
       "    </tr>\n",
       "    <tr>\n",
       "      <th>647929</th>\n",
       "      <td>com.spotify.client</td>\n",
       "      <td>Spotify New Music and Podcasts</td>\n",
       "      <td>https://apps.apple.com/us/app/spotify-new-musi...</td>\n",
       "      <td>Music</td>\n",
       "      <td>12+</td>\n",
       "      <td>154742784.0</td>\n",
       "      <td>12.0</td>\n",
       "      <td>2011-07-14T11:22:37Z</td>\n",
       "      <td>2021-10-08T06:46:57Z</td>\n",
       "      <td>8.6.68</td>\n",
       "      <td>0.0</td>\n",
       "      <td>USD</td>\n",
       "      <td>324684583</td>\n",
       "      <td>Spotify Ltd.</td>\n",
       "      <td>https://apps.apple.com/us/developer/spotify-lt...</td>\n",
       "      <td>https://www.spotify.com/</td>\n",
       "      <td>4.78328</td>\n",
       "      <td>18893225</td>\n",
       "      <td>4.78328</td>\n",
       "      <td>18893225</td>\n",
       "      <td>147.574219</td>\n",
       "      <td>Free</td>\n",
       "    </tr>\n",
       "    <tr>\n",
       "      <th>483342</th>\n",
       "      <td>net.kortina.labs.Venmo</td>\n",
       "      <td>Venmo</td>\n",
       "      <td>https://apps.apple.com/us/app/venmo/id35172742...</td>\n",
       "      <td>Finance</td>\n",
       "      <td>4+</td>\n",
       "      <td>372536320.0</td>\n",
       "      <td>12.0</td>\n",
       "      <td>2010-04-03T05:41:47Z</td>\n",
       "      <td>2021-10-08T04:00:00Z</td>\n",
       "      <td>9.5.1</td>\n",
       "      <td>0.0</td>\n",
       "      <td>USD</td>\n",
       "      <td>351727431</td>\n",
       "      <td>Venmo</td>\n",
       "      <td>https://apps.apple.com/us/developer/venmo/id35...</td>\n",
       "      <td>https://venmo.com/</td>\n",
       "      <td>4.86932</td>\n",
       "      <td>12634191</td>\n",
       "      <td>4.86932</td>\n",
       "      <td>12634191</td>\n",
       "      <td>355.278320</td>\n",
       "      <td>Free</td>\n",
       "    </tr>\n",
       "    <tr>\n",
       "      <th>580482</th>\n",
       "      <td>doordash.DoorDashConsumer</td>\n",
       "      <td>DoorDash - Food Delivery</td>\n",
       "      <td>https://apps.apple.com/us/app/doordash-food-de...</td>\n",
       "      <td>Food &amp; Drink</td>\n",
       "      <td>12+</td>\n",
       "      <td>271894528.0</td>\n",
       "      <td>14.0</td>\n",
       "      <td>2013-10-10T19:46:20Z</td>\n",
       "      <td>2021-10-11T04:07:03Z</td>\n",
       "      <td>4.57.0</td>\n",
       "      <td>0.0</td>\n",
       "      <td>USD</td>\n",
       "      <td>719972454</td>\n",
       "      <td>DoorDash, Inc.</td>\n",
       "      <td>https://apps.apple.com/us/developer/doordash-i...</td>\n",
       "      <td>https://www.doordash.com/</td>\n",
       "      <td>4.76992</td>\n",
       "      <td>12517538</td>\n",
       "      <td>4.76992</td>\n",
       "      <td>12517538</td>\n",
       "      <td>259.298828</td>\n",
       "      <td>Free</td>\n",
       "    </tr>\n",
       "    <tr>\n",
       "      <th>456470</th>\n",
       "      <td>com.zhiliaoapp.musically</td>\n",
       "      <td>TikTok</td>\n",
       "      <td>https://apps.apple.com/us/app/tiktok/id8355993...</td>\n",
       "      <td>Entertainment</td>\n",
       "      <td>12+</td>\n",
       "      <td>452265984.0</td>\n",
       "      <td>9.3</td>\n",
       "      <td>2014-04-02T22:44:45Z</td>\n",
       "      <td>2021-09-09T13:51:15Z</td>\n",
       "      <td>21.1.0</td>\n",
       "      <td>0.0</td>\n",
       "      <td>USD</td>\n",
       "      <td>1322881000</td>\n",
       "      <td>TikTok Pte. Ltd.</td>\n",
       "      <td>https://apps.apple.com/us/developer/tiktok-pte...</td>\n",
       "      <td>http://www.tiktok.com</td>\n",
       "      <td>4.73975</td>\n",
       "      <td>10598509</td>\n",
       "      <td>4.73975</td>\n",
       "      <td>10598509</td>\n",
       "      <td>431.314453</td>\n",
       "      <td>Free</td>\n",
       "    </tr>\n",
       "    <tr>\n",
       "      <th>961751</th>\n",
       "      <td>com.zimride.instant</td>\n",
       "      <td>Lyft</td>\n",
       "      <td>https://apps.apple.com/us/app/lyft/id529379082...</td>\n",
       "      <td>Travel</td>\n",
       "      <td>4+</td>\n",
       "      <td>457876480.0</td>\n",
       "      <td>12.0</td>\n",
       "      <td>2012-05-31T00:43:05Z</td>\n",
       "      <td>2021-10-11T17:16:12Z</td>\n",
       "      <td>7.5.3</td>\n",
       "      <td>0.0</td>\n",
       "      <td>USD</td>\n",
       "      <td>523004506</td>\n",
       "      <td>Lyft, Inc.</td>\n",
       "      <td>https://apps.apple.com/us/developer/lyft-inc/i...</td>\n",
       "      <td>http://lyft.com</td>\n",
       "      <td>4.91553</td>\n",
       "      <td>10241777</td>\n",
       "      <td>4.91553</td>\n",
       "      <td>10241777</td>\n",
       "      <td>436.665039</td>\n",
       "      <td>Free</td>\n",
       "    </tr>\n",
       "  </tbody>\n",
       "</table>\n",
       "</div>"
      ],
      "text/plain": [
       "                           App_Id                        App_Name  \\\n",
       "415817     com.google.ios.youtube  YouTube: Watch, Listen, Stream   \n",
       "996310        com.burbn.instagram                       Instagram   \n",
       "647929         com.spotify.client  Spotify New Music and Podcasts   \n",
       "483342     net.kortina.labs.Venmo                           Venmo   \n",
       "580482  doordash.DoorDashConsumer        DoorDash - Food Delivery   \n",
       "456470   com.zhiliaoapp.musically                          TikTok   \n",
       "961751        com.zimride.instant                            Lyft   \n",
       "\n",
       "                                             AppStore_Url  Primary_Genre  \\\n",
       "415817  https://apps.apple.com/us/app/youtube-watch-li...  Photo & Video   \n",
       "996310  https://apps.apple.com/us/app/instagram/id3898...  Photo & Video   \n",
       "647929  https://apps.apple.com/us/app/spotify-new-musi...          Music   \n",
       "483342  https://apps.apple.com/us/app/venmo/id35172742...        Finance   \n",
       "580482  https://apps.apple.com/us/app/doordash-food-de...   Food & Drink   \n",
       "456470  https://apps.apple.com/us/app/tiktok/id8355993...  Entertainment   \n",
       "961751  https://apps.apple.com/us/app/lyft/id529379082...         Travel   \n",
       "\n",
       "       Content_Rating   Size_Bytes Required_IOS_Version              Released  \\\n",
       "415817            17+  261849088.0                 12.0  2012-09-11T07:23:19Z   \n",
       "996310            12+  193046528.0                 12.0  2010-10-06T08:12:41Z   \n",
       "647929            12+  154742784.0                 12.0  2011-07-14T11:22:37Z   \n",
       "483342             4+  372536320.0                 12.0  2010-04-03T05:41:47Z   \n",
       "580482            12+  271894528.0                 14.0  2013-10-10T19:46:20Z   \n",
       "456470            12+  452265984.0                  9.3  2014-04-02T22:44:45Z   \n",
       "961751             4+  457876480.0                 12.0  2012-05-31T00:43:05Z   \n",
       "\n",
       "                     Updated  Version  Price Currency  DeveloperId  \\\n",
       "415817  2021-10-10T23:03:29Z  16.40.3    0.0      USD    281956209   \n",
       "996310  2021-10-13T11:48:53Z    209.1    0.0      USD    389801255   \n",
       "647929  2021-10-08T06:46:57Z   8.6.68    0.0      USD    324684583   \n",
       "483342  2021-10-08T04:00:00Z    9.5.1    0.0      USD    351727431   \n",
       "580482  2021-10-11T04:07:03Z   4.57.0    0.0      USD    719972454   \n",
       "456470  2021-09-09T13:51:15Z   21.1.0    0.0      USD   1322881000   \n",
       "961751  2021-10-11T17:16:12Z    7.5.3    0.0      USD    523004506   \n",
       "\n",
       "               Developer                                      Developer_Url  \\\n",
       "415817        Google LLC  https://apps.apple.com/us/developer/google-llc...   \n",
       "996310   Instagram, Inc.  https://apps.apple.com/us/developer/instagram-...   \n",
       "647929      Spotify Ltd.  https://apps.apple.com/us/developer/spotify-lt...   \n",
       "483342             Venmo  https://apps.apple.com/us/developer/venmo/id35...   \n",
       "580482    DoorDash, Inc.  https://apps.apple.com/us/developer/doordash-i...   \n",
       "456470  TikTok Pte. Ltd.  https://apps.apple.com/us/developer/tiktok-pte...   \n",
       "961751        Lyft, Inc.  https://apps.apple.com/us/developer/lyft-inc/i...   \n",
       "\n",
       "                Developer_Website  Average_User_Rating   Reviews  \\\n",
       "415817    https://www.youtube.com              4.68757  22685334   \n",
       "996310      http://instagram.com/              4.74680  21839585   \n",
       "647929   https://www.spotify.com/              4.78328  18893225   \n",
       "483342         https://venmo.com/              4.86932  12634191   \n",
       "580482  https://www.doordash.com/              4.76992  12517538   \n",
       "456470      http://www.tiktok.com              4.73975  10598509   \n",
       "961751            http://lyft.com              4.91553  10241777   \n",
       "\n",
       "        Current_Version_Score  Current_Version_Reviews     Size_MB  Type  \n",
       "415817                4.68757                 22685334  249.718750  Free  \n",
       "996310                4.74680                 21839585  184.103516  Free  \n",
       "647929                4.78328                 18893225  147.574219  Free  \n",
       "483342                4.86932                 12634191  355.278320  Free  \n",
       "580482                4.76992                 12517538  259.298828  Free  \n",
       "456470                4.73975                 10598509  431.314453  Free  \n",
       "961751                4.91553                 10241777  436.665039  Free  "
      ]
     },
     "execution_count": 20,
     "metadata": {},
     "output_type": "execute_result"
    }
   ],
   "source": [
    "df.sort_values(by=\"Reviews\", ascending=False).head(7)"
   ]
  },
  {
   "cell_type": "code",
   "execution_count": 21,
   "metadata": {},
   "outputs": [
    {
     "data": {
      "text/html": [
       "<div>\n",
       "<style scoped>\n",
       "    .dataframe tbody tr th:only-of-type {\n",
       "        vertical-align: middle;\n",
       "    }\n",
       "\n",
       "    .dataframe tbody tr th {\n",
       "        vertical-align: top;\n",
       "    }\n",
       "\n",
       "    .dataframe thead th {\n",
       "        text-align: right;\n",
       "    }\n",
       "</style>\n",
       "<table border=\"1\" class=\"dataframe\">\n",
       "  <thead>\n",
       "    <tr style=\"text-align: right;\">\n",
       "      <th></th>\n",
       "      <th>App_Name</th>\n",
       "      <th>Reviews</th>\n",
       "      <th>Primary_Genre</th>\n",
       "    </tr>\n",
       "  </thead>\n",
       "  <tbody>\n",
       "    <tr>\n",
       "      <th>415817</th>\n",
       "      <td>YouTube: Watch, Listen, Stream</td>\n",
       "      <td>22685334</td>\n",
       "      <td>Photo &amp; Video</td>\n",
       "    </tr>\n",
       "    <tr>\n",
       "      <th>996310</th>\n",
       "      <td>Instagram</td>\n",
       "      <td>21839585</td>\n",
       "      <td>Photo &amp; Video</td>\n",
       "    </tr>\n",
       "    <tr>\n",
       "      <th>647929</th>\n",
       "      <td>Spotify New Music and Podcasts</td>\n",
       "      <td>18893225</td>\n",
       "      <td>Music</td>\n",
       "    </tr>\n",
       "    <tr>\n",
       "      <th>483342</th>\n",
       "      <td>Venmo</td>\n",
       "      <td>12634191</td>\n",
       "      <td>Finance</td>\n",
       "    </tr>\n",
       "    <tr>\n",
       "      <th>580482</th>\n",
       "      <td>DoorDash - Food Delivery</td>\n",
       "      <td>12517538</td>\n",
       "      <td>Food &amp; Drink</td>\n",
       "    </tr>\n",
       "    <tr>\n",
       "      <th>456470</th>\n",
       "      <td>TikTok</td>\n",
       "      <td>10598509</td>\n",
       "      <td>Entertainment</td>\n",
       "    </tr>\n",
       "    <tr>\n",
       "      <th>961751</th>\n",
       "      <td>Lyft</td>\n",
       "      <td>10241777</td>\n",
       "      <td>Travel</td>\n",
       "    </tr>\n",
       "  </tbody>\n",
       "</table>\n",
       "</div>"
      ],
      "text/plain": [
       "                              App_Name   Reviews  Primary_Genre\n",
       "415817  YouTube: Watch, Listen, Stream  22685334  Photo & Video\n",
       "996310                       Instagram  21839585  Photo & Video\n",
       "647929  Spotify New Music and Podcasts  18893225          Music\n",
       "483342                           Venmo  12634191        Finance\n",
       "580482        DoorDash - Food Delivery  12517538   Food & Drink\n",
       "456470                          TikTok  10598509  Entertainment\n",
       "961751                            Lyft  10241777         Travel"
      ]
     },
     "execution_count": 21,
     "metadata": {},
     "output_type": "execute_result"
    }
   ],
   "source": [
    "df_top_reviewed = df[['App_Name', 'Reviews', 'Primary_Genre']].sort_values(by=\"Reviews\", ascending=False)\n",
    "#df_top_reviewed.index()\n",
    "df_top_reviewed = df_top_reviewed.head(7)\n",
    "df_top_reviewed"
   ]
  },
  {
   "cell_type": "code",
   "execution_count": 22,
   "metadata": {},
   "outputs": [
    {
     "data": {
      "text/plain": [
       "Text(0.5, 1.0, 'Top 7 apps with highest reviews')"
      ]
     },
     "execution_count": 22,
     "metadata": {},
     "output_type": "execute_result"
    },
    {
     "data": {
      "text/plain": [
       "<Figure size 1500x800 with 0 Axes>"
      ]
     },
     "metadata": {},
     "output_type": "display_data"
    },
    {
     "data": {
      "image/png": "[encoded data removed]",
      "text/plain": [
       "<Figure size 640x480 with 1 Axes>"
      ]
     },
     "metadata": {},
     "output_type": "display_data"
    }
   ],
   "source": [
    "plt.figure(figsize=(15,8))\n",
    "df_top_reviewed.plot(kind='bar', x='App_Name', y='Reviews')\n",
    "plt.xlabel('App Name')\n",
    "plt.ylabel('Reviews')\n",
    "plt.title(\"Top 7 apps with highest reviews\")"
   ]
  },
  {
   "cell_type": "markdown",
   "metadata": {},
   "source": [
    "Here we can see that top 7 apps are mostly related to entertainment. However Venmo app is an exception which is related to finance\\\n",
    "### 5.3 Now we will find out if the result will be the same for current version reviews"
   ]
  },
  {
   "cell_type": "code",
   "execution_count": 23,
   "metadata": {},
   "outputs": [
    {
     "data": {
      "text/html": [
       "<div>\n",
       "<style scoped>\n",
       "    .dataframe tbody tr th:only-of-type {\n",
       "        vertical-align: middle;\n",
       "    }\n",
       "\n",
       "    .dataframe tbody tr th {\n",
       "        vertical-align: top;\n",
       "    }\n",
       "\n",
       "    .dataframe thead th {\n",
       "        text-align: right;\n",
       "    }\n",
       "</style>\n",
       "<table border=\"1\" class=\"dataframe\">\n",
       "  <thead>\n",
       "    <tr style=\"text-align: right;\">\n",
       "      <th></th>\n",
       "      <th>App_Name</th>\n",
       "      <th>Current_Version_Reviews</th>\n",
       "      <th>Primary_Genre</th>\n",
       "    </tr>\n",
       "  </thead>\n",
       "  <tbody>\n",
       "    <tr>\n",
       "      <th>415817</th>\n",
       "      <td>YouTube: Watch, Listen, Stream</td>\n",
       "      <td>22685334</td>\n",
       "      <td>Photo &amp; Video</td>\n",
       "    </tr>\n",
       "    <tr>\n",
       "      <th>996310</th>\n",
       "      <td>Instagram</td>\n",
       "      <td>21839585</td>\n",
       "      <td>Photo &amp; Video</td>\n",
       "    </tr>\n",
       "    <tr>\n",
       "      <th>647929</th>\n",
       "      <td>Spotify New Music and Podcasts</td>\n",
       "      <td>18893225</td>\n",
       "      <td>Music</td>\n",
       "    </tr>\n",
       "    <tr>\n",
       "      <th>483342</th>\n",
       "      <td>Venmo</td>\n",
       "      <td>12634191</td>\n",
       "      <td>Finance</td>\n",
       "    </tr>\n",
       "    <tr>\n",
       "      <th>580482</th>\n",
       "      <td>DoorDash - Food Delivery</td>\n",
       "      <td>12517538</td>\n",
       "      <td>Food &amp; Drink</td>\n",
       "    </tr>\n",
       "    <tr>\n",
       "      <th>456470</th>\n",
       "      <td>TikTok</td>\n",
       "      <td>10598509</td>\n",
       "      <td>Entertainment</td>\n",
       "    </tr>\n",
       "    <tr>\n",
       "      <th>961751</th>\n",
       "      <td>Lyft</td>\n",
       "      <td>10241777</td>\n",
       "      <td>Travel</td>\n",
       "    </tr>\n",
       "  </tbody>\n",
       "</table>\n",
       "</div>"
      ],
      "text/plain": [
       "                              App_Name  Current_Version_Reviews  Primary_Genre\n",
       "415817  YouTube: Watch, Listen, Stream                 22685334  Photo & Video\n",
       "996310                       Instagram                 21839585  Photo & Video\n",
       "647929  Spotify New Music and Podcasts                 18893225          Music\n",
       "483342                           Venmo                 12634191        Finance\n",
       "580482        DoorDash - Food Delivery                 12517538   Food & Drink\n",
       "456470                          TikTok                 10598509  Entertainment\n",
       "961751                            Lyft                 10241777         Travel"
      ]
     },
     "execution_count": 23,
     "metadata": {},
     "output_type": "execute_result"
    }
   ],
   "source": [
    "df_top_reviewed_current = df[['App_Name', 'Current_Version_Reviews', 'Primary_Genre']].sort_values(by=\"Current_Version_Reviews\", ascending=False)\n",
    "#df_top_reviewed.index()\n",
    "df_top_reviewed_current = df_top_reviewed_current.head(7)\n",
    "df_top_reviewed_current"
   ]
  },
  {
   "cell_type": "markdown",
   "metadata": {},
   "source": [
    "Hence the current_version_reviews are the same as reviews"
   ]
  },
  {
   "cell_type": "markdown",
   "metadata": {},
   "source": [
    "### 5.4 The Number of apps having average rating > 4.5 and 4.7"
   ]
  },
  {
   "cell_type": "code",
   "execution_count": 24,
   "metadata": {},
   "outputs": [
    {
     "data": {
      "text/plain": [
       "156974"
      ]
     },
     "execution_count": 24,
     "metadata": {},
     "output_type": "execute_result"
    }
   ],
   "source": [
    "df['Average_User_Rating'] = round(df['Average_User_Rating'], 1)\n",
    "df[df['Average_User_Rating'] >= 4.5].value_counts().sum()"
   ]
  },
  {
   "cell_type": "code",
   "execution_count": 25,
   "metadata": {},
   "outputs": [
    {
     "data": {
      "text/plain": [
       "130298"
      ]
     },
     "execution_count": 25,
     "metadata": {},
     "output_type": "execute_result"
    }
   ],
   "source": [
    "df[df['Average_User_Rating'] >= 4.7].value_counts().sum()"
   ]
  },
  {
   "cell_type": "markdown",
   "metadata": {},
   "source": [
    "There are more than 150k apps with rating greater than 4.5 and more than 130k apps with rating greater than 4.7"
   ]
  },
  {
   "cell_type": "markdown",
   "metadata": {},
   "source": [
    "### 5.5 Is there a correlation between size_mb and reviews?"
   ]
  },
  {
   "cell_type": "code",
   "execution_count": 26,
   "metadata": {},
   "outputs": [
    {
     "data": {
      "text/plain": [
       "count    1.230372e+06\n",
       "mean     7.162916e+01\n",
       "std      2.211112e+02\n",
       "min      2.634811e-02\n",
       "25%      1.947168e+01\n",
       "50%      4.133594e+01\n",
       "75%      7.976660e+01\n",
       "max      7.322259e+04\n",
       "Name: Size_MB, dtype: float64"
      ]
     },
     "execution_count": 26,
     "metadata": {},
     "output_type": "execute_result"
    }
   ],
   "source": [
    "df['Size_MB'].describe()"
   ]
  },
  {
   "cell_type": "code",
   "execution_count": 27,
   "metadata": {},
   "outputs": [
    {
     "data": {
      "text/plain": [
       "Text(0.5, 1.0, 'Reviews vs Size scatter plot')"
      ]
     },
     "execution_count": 27,
     "metadata": {},
     "output_type": "execute_result"
    },
    {
     "data": {
      "text/plain": [
       "<Figure size 1500x800 with 0 Axes>"
      ]
     },
     "metadata": {},
     "output_type": "display_data"
    },
    {
     "data": {
      "image/png": "[encoded data removed]",
      "text/plain": [
       "<Figure size 640x480 with 1 Axes>"
      ]
     },
     "metadata": {},
     "output_type": "display_data"
    }
   ],
   "source": [
    "plt.figure(figsize=(15,8))\n",
    "df.plot(kind='scatter', x='Size_MB', y='Reviews', logy=True, xlim=(0, 4000))\n",
    "plt.xlabel('Size in Mb')\n",
    "plt.ylabel('Reviews')\n",
    "plt.title(\"Reviews vs Size scatter plot\")"
   ]
  },
  {
   "cell_type": "markdown",
   "metadata": {},
   "source": [
    "There correlation between Size and reviews is not quite evident. However it is clear that smaller app size have more reviews\\\n",
    "So we can assume that user prefer small app size"
   ]
  },
  {
   "cell_type": "markdown",
   "metadata": {},
   "source": [
    "### 5.6 Which Genre has highest number of reviews"
   ]
  },
  {
   "cell_type": "code",
   "execution_count": 28,
   "metadata": {},
   "outputs": [
    {
     "data": {
      "text/plain": [
       "Primary_Genre\n",
       "Games                     193746\n",
       "Business                  128297\n",
       "Education                 119174\n",
       "Utilities                  94007\n",
       "Lifestyle                  84565\n",
       "Food & Drink               73157\n",
       "Health & Fitness           60724\n",
       "Productivity               59430\n",
       "Entertainment              53147\n",
       "Shopping                   49537\n",
       "Finance                    44984\n",
       "Travel                     43726\n",
       "Sports                     31455\n",
       "Music                      29898\n",
       "Medical                    27995\n",
       "Photo & Video              25957\n",
       "Social Networking          25429\n",
       "News                       20422\n",
       "Reference                  18615\n",
       "Navigation                 12636\n",
       "Stickers                   12407\n",
       "Book                       11472\n",
       "Weather                     3563\n",
       "Graphics & Design           2781\n",
       "Developer Tools             1951\n",
       "Magazines & Newspapers      1297\n",
       "Name: count, dtype: int64"
      ]
     },
     "execution_count": 28,
     "metadata": {},
     "output_type": "execute_result"
    }
   ],
   "source": [
    "df['Primary_Genre'].value_counts()"
   ]
  },
  {
   "cell_type": "code",
   "execution_count": 32,
   "metadata": {},
   "outputs": [
    {
     "data": {
      "text/html": [
       "<div>\n",
       "<style scoped>\n",
       "    .dataframe tbody tr th:only-of-type {\n",
       "        vertical-align: middle;\n",
       "    }\n",
       "\n",
       "    .dataframe tbody tr th {\n",
       "        vertical-align: top;\n",
       "    }\n",
       "\n",
       "    .dataframe thead th {\n",
       "        text-align: right;\n",
       "    }\n",
       "</style>\n",
       "<table border=\"1\" class=\"dataframe\">\n",
       "  <thead>\n",
       "    <tr style=\"text-align: right;\">\n",
       "      <th></th>\n",
       "      <th>Reviews</th>\n",
       "    </tr>\n",
       "    <tr>\n",
       "      <th>Primary_Genre</th>\n",
       "      <th></th>\n",
       "    </tr>\n",
       "  </thead>\n",
       "  <tbody>\n",
       "    <tr>\n",
       "      <th>Weather</th>\n",
       "      <td>3147.314623</td>\n",
       "    </tr>\n",
       "    <tr>\n",
       "      <th>Photo &amp; Video</th>\n",
       "      <td>2957.376931</td>\n",
       "    </tr>\n",
       "    <tr>\n",
       "      <th>Finance</th>\n",
       "      <td>2011.889427</td>\n",
       "    </tr>\n",
       "    <tr>\n",
       "      <th>Music</th>\n",
       "      <td>1729.689210</td>\n",
       "    </tr>\n",
       "    <tr>\n",
       "      <th>Shopping</th>\n",
       "      <td>1496.664655</td>\n",
       "    </tr>\n",
       "    <tr>\n",
       "      <th>Games</th>\n",
       "      <td>1333.942972</td>\n",
       "    </tr>\n",
       "    <tr>\n",
       "      <th>Social Networking</th>\n",
       "      <td>1259.467930</td>\n",
       "    </tr>\n",
       "  </tbody>\n",
       "</table>\n",
       "</div>"
      ],
      "text/plain": [
       "                       Reviews\n",
       "Primary_Genre                 \n",
       "Weather            3147.314623\n",
       "Photo & Video      2957.376931\n",
       "Finance            2011.889427\n",
       "Music              1729.689210\n",
       "Shopping           1496.664655\n",
       "Games              1333.942972\n",
       "Social Networking  1259.467930"
      ]
     },
     "execution_count": 32,
     "metadata": {},
     "output_type": "execute_result"
    }
   ],
   "source": [
    "df_genre = df[['Primary_Genre', 'Reviews']].groupby(['Primary_Genre']).mean().sort_values(by='Reviews', ascending=False)\n",
    "df_genre.head(7)"
   ]
  },
  {
   "cell_type": "code",
   "execution_count": 33,
   "metadata": {},
   "outputs": [
    {
     "data": {
      "text/html": [
       "<div>\n",
       "<style scoped>\n",
       "    .dataframe tbody tr th:only-of-type {\n",
       "        vertical-align: middle;\n",
       "    }\n",
       "\n",
       "    .dataframe tbody tr th {\n",
       "        vertical-align: top;\n",
       "    }\n",
       "\n",
       "    .dataframe thead th {\n",
       "        text-align: right;\n",
       "    }\n",
       "</style>\n",
       "<table border=\"1\" class=\"dataframe\">\n",
       "  <thead>\n",
       "    <tr style=\"text-align: right;\">\n",
       "      <th></th>\n",
       "      <th>Reviews</th>\n",
       "    </tr>\n",
       "    <tr>\n",
       "      <th>Primary_Genre</th>\n",
       "      <th></th>\n",
       "    </tr>\n",
       "  </thead>\n",
       "  <tbody>\n",
       "    <tr>\n",
       "      <th>Games</th>\n",
       "      <td>258446115</td>\n",
       "    </tr>\n",
       "    <tr>\n",
       "      <th>Finance</th>\n",
       "      <td>90502834</td>\n",
       "    </tr>\n",
       "    <tr>\n",
       "      <th>Photo &amp; Video</th>\n",
       "      <td>76764633</td>\n",
       "    </tr>\n",
       "    <tr>\n",
       "      <th>Shopping</th>\n",
       "      <td>74140277</td>\n",
       "    </tr>\n",
       "    <tr>\n",
       "      <th>Food &amp; Drink</th>\n",
       "      <td>57859585</td>\n",
       "    </tr>\n",
       "    <tr>\n",
       "      <th>Travel</th>\n",
       "      <td>52974311</td>\n",
       "    </tr>\n",
       "    <tr>\n",
       "      <th>Music</th>\n",
       "      <td>51714248</td>\n",
       "    </tr>\n",
       "  </tbody>\n",
       "</table>\n",
       "</div>"
      ],
      "text/plain": [
       "                 Reviews\n",
       "Primary_Genre           \n",
       "Games          258446115\n",
       "Finance         90502834\n",
       "Photo & Video   76764633\n",
       "Shopping        74140277\n",
       "Food & Drink    57859585\n",
       "Travel          52974311\n",
       "Music           51714248"
      ]
     },
     "execution_count": 33,
     "metadata": {},
     "output_type": "execute_result"
    }
   ],
   "source": [
    "df_genre = df[['Primary_Genre', 'Reviews']].groupby(['Primary_Genre']).sum().sort_values(by='Reviews', ascending=False)\n",
    "df_genre.head(7)"
   ]
  },
  {
   "cell_type": "markdown",
   "metadata": {},
   "source": [
    "Here we get an interesting insight. Top 3 apps are related to genre of Games, Business and Education.\\\n",
    "However, if we look at the number of reviews for each genre we see Games, Finance, and Photo & Video in top 3. \\\n",
    "Since Business and Finance are the similar category, their position is understandable. But number of Photo & Video apps\\\n",
    "are quite low. This may be due to the fact that people do mot prefer to use relatively new apps since their reach is limited.\\\n",
    "On the other hand there is a tendency among people to explore new games. That is why their number and reviews are both high"
   ]
  },
  {
   "cell_type": "markdown",
   "metadata": {},
   "source": [
    "### 5.7 Is there a correlation between Price and Reviews"
   ]
  },
  {
   "cell_type": "code",
   "execution_count": 36,
   "metadata": {},
   "outputs": [
    {
     "data": {
      "text/plain": [
       "Text(0.5, 1.0, 'Price vs Reviews scatter plot')"
      ]
     },
     "execution_count": 36,
     "metadata": {},
     "output_type": "execute_result"
    },
    {
     "data": {
      "text/plain": [
       "<Figure size 1500x800 with 0 Axes>"
      ]
     },
     "metadata": {},
     "output_type": "display_data"
    },
    {
     "data": {
      "image/png": "[encoded data removed]",
      "text/plain": [
       "<Figure size 640x480 with 1 Axes>"
      ]
     },
     "metadata": {},
     "output_type": "display_data"
    }
   ],
   "source": [
    "plt.figure(figsize=(15,8))\n",
    "df.plot(kind='scatter', x='Price', y='Reviews', logy=True, xlim=(0, 400))\n",
    "plt.xlabel('Price')\n",
    "plt.ylabel('Reviews')\n",
    "plt.title(\"Price vs Reviews scatter plot\")"
   ]
  },
  {
   "cell_type": "markdown",
   "metadata": {},
   "source": [
    "The Scatter plot shows that as the price increases the number of reviews decreases"
   ]
  },
  {
   "cell_type": "markdown",
   "metadata": {},
   "source": [
    "### 5.7 What are top 10 most expensive apps"
   ]
  },
  {
   "cell_type": "code",
   "execution_count": 39,
   "metadata": {},
   "outputs": [
    {
     "data": {
      "text/html": [
       "<div>\n",
       "<style scoped>\n",
       "    .dataframe tbody tr th:only-of-type {\n",
       "        vertical-align: middle;\n",
       "    }\n",
       "\n",
       "    .dataframe tbody tr th {\n",
       "        vertical-align: top;\n",
       "    }\n",
       "\n",
       "    .dataframe thead th {\n",
       "        text-align: right;\n",
       "    }\n",
       "</style>\n",
       "<table border=\"1\" class=\"dataframe\">\n",
       "  <thead>\n",
       "    <tr style=\"text-align: right;\">\n",
       "      <th></th>\n",
       "      <th>App_Name</th>\n",
       "      <th>Price</th>\n",
       "      <th>Primary_Genre</th>\n",
       "      <th>Reviews</th>\n",
       "    </tr>\n",
       "  </thead>\n",
       "  <tbody>\n",
       "    <tr>\n",
       "      <th>1110773</th>\n",
       "      <td>Tower Gage</td>\n",
       "      <td>999.99</td>\n",
       "      <td>Productivity</td>\n",
       "      <td>0</td>\n",
       "    </tr>\n",
       "    <tr>\n",
       "      <th>1022813</th>\n",
       "      <td>YCS Sketch</td>\n",
       "      <td>999.99</td>\n",
       "      <td>Utilities</td>\n",
       "      <td>0</td>\n",
       "    </tr>\n",
       "    <tr>\n",
       "      <th>444122</th>\n",
       "      <td>RP.MEDIA</td>\n",
       "      <td>999.99</td>\n",
       "      <td>Music</td>\n",
       "      <td>1</td>\n",
       "    </tr>\n",
       "    <tr>\n",
       "      <th>482114</th>\n",
       "      <td>ASPL POS (Odoo V14)</td>\n",
       "      <td>999.99</td>\n",
       "      <td>Business</td>\n",
       "      <td>0</td>\n",
       "    </tr>\n",
       "    <tr>\n",
       "      <th>482113</th>\n",
       "      <td>ASPL POS (Odoo V13)</td>\n",
       "      <td>999.99</td>\n",
       "      <td>Business</td>\n",
       "      <td>0</td>\n",
       "    </tr>\n",
       "    <tr>\n",
       "      <th>935957</th>\n",
       "      <td>CyberTuner</td>\n",
       "      <td>999.99</td>\n",
       "      <td>Music</td>\n",
       "      <td>44</td>\n",
       "    </tr>\n",
       "    <tr>\n",
       "      <th>1020170</th>\n",
       "      <td>Shot Tracer Event</td>\n",
       "      <td>999.99</td>\n",
       "      <td>Sports</td>\n",
       "      <td>0</td>\n",
       "    </tr>\n",
       "    <tr>\n",
       "      <th>707360</th>\n",
       "      <td>VERT Team System</td>\n",
       "      <td>999.99</td>\n",
       "      <td>Health &amp; Fitness</td>\n",
       "      <td>0</td>\n",
       "    </tr>\n",
       "    <tr>\n",
       "      <th>707359</th>\n",
       "      <td>VERT Stealth</td>\n",
       "      <td>999.99</td>\n",
       "      <td>Sports</td>\n",
       "      <td>0</td>\n",
       "    </tr>\n",
       "    <tr>\n",
       "      <th>168219</th>\n",
       "      <td>Entertastic white label admin</td>\n",
       "      <td>999.99</td>\n",
       "      <td>Business</td>\n",
       "      <td>0</td>\n",
       "    </tr>\n",
       "  </tbody>\n",
       "</table>\n",
       "</div>"
      ],
      "text/plain": [
       "                              App_Name   Price     Primary_Genre  Reviews\n",
       "1110773                     Tower Gage  999.99      Productivity        0\n",
       "1022813                     YCS Sketch  999.99         Utilities        0\n",
       "444122                        RP.MEDIA  999.99             Music        1\n",
       "482114             ASPL POS (Odoo V14)  999.99          Business        0\n",
       "482113             ASPL POS (Odoo V13)  999.99          Business        0\n",
       "935957                      CyberTuner  999.99             Music       44\n",
       "1020170              Shot Tracer Event  999.99            Sports        0\n",
       "707360                VERT Team System  999.99  Health & Fitness        0\n",
       "707359                    VERT Stealth  999.99            Sports        0\n",
       "168219   Entertastic white label admin  999.99          Business        0"
      ]
     },
     "execution_count": 39,
     "metadata": {},
     "output_type": "execute_result"
    }
   ],
   "source": [
    "df_exp = df[['App_Name', 'Price', 'Primary_Genre', 'Reviews']].sort_values(by=\"Price\", ascending=False).head(10)\n",
    "df_exp\n"
   ]
  },
  {
   "cell_type": "code",
   "execution_count": null,
   "metadata": {},
   "outputs": [],
   "source": []
  }
 ],
 "metadata": {
  "kernelspec": {
   "display_name": "base",
   "language": "python",
   "name": "python3"
  },
  "language_info": {
   "codemirror_mode": {
    "name": "ipython",
    "version": 3
   },
   "file_extension": ".py",
   "mimetype": "text/x-python",
   "name": "python",
   "nbconvert_exporter": "python",
   "pygments_lexer": "ipython3",
   "version": "3.12.2"
  }
 },
 "nbformat": 4,
 "nbformat_minor": 2
}
