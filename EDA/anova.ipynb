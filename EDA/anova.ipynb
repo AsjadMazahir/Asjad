{
 "cells": [
  {
   "cell_type": "markdown",
   "metadata": {},
   "source": [
    "## ANOVA tests on titanic data set"
   ]
  },
  {
   "cell_type": "code",
   "execution_count": 1,
   "metadata": {},
   "outputs": [],
   "source": [
    "import pandas as pd\n",
    "import numpy as np\n",
    "import matplotlib.pyplot as plt\n",
    "import seaborn as sns"
   ]
  },
  {
   "cell_type": "code",
   "execution_count": 2,
   "metadata": {},
   "outputs": [
    {
     "data": {
      "text/html": [
       "<div>\n",
       "<style scoped>\n",
       "    .dataframe tbody tr th:only-of-type {\n",
       "        vertical-align: middle;\n",
       "    }\n",
       "\n",
       "    .dataframe tbody tr th {\n",
       "        vertical-align: top;\n",
       "    }\n",
       "\n",
       "    .dataframe thead th {\n",
       "        text-align: right;\n",
       "    }\n",
       "</style>\n",
       "<table border=\"1\" class=\"dataframe\">\n",
       "  <thead>\n",
       "    <tr style=\"text-align: right;\">\n",
       "      <th></th>\n",
       "      <th>survived</th>\n",
       "      <th>pclass</th>\n",
       "      <th>sex</th>\n",
       "      <th>age</th>\n",
       "      <th>sibsp</th>\n",
       "      <th>parch</th>\n",
       "      <th>fare</th>\n",
       "      <th>embarked</th>\n",
       "      <th>class</th>\n",
       "      <th>who</th>\n",
       "      <th>adult_male</th>\n",
       "      <th>deck</th>\n",
       "      <th>embark_town</th>\n",
       "      <th>alive</th>\n",
       "      <th>alone</th>\n",
       "    </tr>\n",
       "  </thead>\n",
       "  <tbody>\n",
       "    <tr>\n",
       "      <th>0</th>\n",
       "      <td>0</td>\n",
       "      <td>3</td>\n",
       "      <td>male</td>\n",
       "      <td>22.0</td>\n",
       "      <td>1</td>\n",
       "      <td>0</td>\n",
       "      <td>7.2500</td>\n",
       "      <td>S</td>\n",
       "      <td>Third</td>\n",
       "      <td>man</td>\n",
       "      <td>True</td>\n",
       "      <td>NaN</td>\n",
       "      <td>Southampton</td>\n",
       "      <td>no</td>\n",
       "      <td>False</td>\n",
       "    </tr>\n",
       "    <tr>\n",
       "      <th>1</th>\n",
       "      <td>1</td>\n",
       "      <td>1</td>\n",
       "      <td>female</td>\n",
       "      <td>38.0</td>\n",
       "      <td>1</td>\n",
       "      <td>0</td>\n",
       "      <td>71.2833</td>\n",
       "      <td>C</td>\n",
       "      <td>First</td>\n",
       "      <td>woman</td>\n",
       "      <td>False</td>\n",
       "      <td>C</td>\n",
       "      <td>Cherbourg</td>\n",
       "      <td>yes</td>\n",
       "      <td>False</td>\n",
       "    </tr>\n",
       "    <tr>\n",
       "      <th>2</th>\n",
       "      <td>1</td>\n",
       "      <td>3</td>\n",
       "      <td>female</td>\n",
       "      <td>26.0</td>\n",
       "      <td>0</td>\n",
       "      <td>0</td>\n",
       "      <td>7.9250</td>\n",
       "      <td>S</td>\n",
       "      <td>Third</td>\n",
       "      <td>woman</td>\n",
       "      <td>False</td>\n",
       "      <td>NaN</td>\n",
       "      <td>Southampton</td>\n",
       "      <td>yes</td>\n",
       "      <td>True</td>\n",
       "    </tr>\n",
       "    <tr>\n",
       "      <th>3</th>\n",
       "      <td>1</td>\n",
       "      <td>1</td>\n",
       "      <td>female</td>\n",
       "      <td>35.0</td>\n",
       "      <td>1</td>\n",
       "      <td>0</td>\n",
       "      <td>53.1000</td>\n",
       "      <td>S</td>\n",
       "      <td>First</td>\n",
       "      <td>woman</td>\n",
       "      <td>False</td>\n",
       "      <td>C</td>\n",
       "      <td>Southampton</td>\n",
       "      <td>yes</td>\n",
       "      <td>False</td>\n",
       "    </tr>\n",
       "    <tr>\n",
       "      <th>4</th>\n",
       "      <td>0</td>\n",
       "      <td>3</td>\n",
       "      <td>male</td>\n",
       "      <td>35.0</td>\n",
       "      <td>0</td>\n",
       "      <td>0</td>\n",
       "      <td>8.0500</td>\n",
       "      <td>S</td>\n",
       "      <td>Third</td>\n",
       "      <td>man</td>\n",
       "      <td>True</td>\n",
       "      <td>NaN</td>\n",
       "      <td>Southampton</td>\n",
       "      <td>no</td>\n",
       "      <td>True</td>\n",
       "    </tr>\n",
       "  </tbody>\n",
       "</table>\n",
       "</div>"
      ],
      "text/plain": [
       "   survived  pclass     sex   age  sibsp  parch     fare embarked  class  \\\n",
       "0         0       3    male  22.0      1      0   7.2500        S  Third   \n",
       "1         1       1  female  38.0      1      0  71.2833        C  First   \n",
       "2         1       3  female  26.0      0      0   7.9250        S  Third   \n",
       "3         1       1  female  35.0      1      0  53.1000        S  First   \n",
       "4         0       3    male  35.0      0      0   8.0500        S  Third   \n",
       "\n",
       "     who  adult_male deck  embark_town alive  alone  \n",
       "0    man        True  NaN  Southampton    no  False  \n",
       "1  woman       False    C    Cherbourg   yes  False  \n",
       "2  woman       False  NaN  Southampton   yes   True  \n",
       "3  woman       False    C  Southampton   yes  False  \n",
       "4    man        True  NaN  Southampton    no   True  "
      ]
     },
     "execution_count": 2,
     "metadata": {},
     "output_type": "execute_result"
    }
   ],
   "source": [
    "df = sns.load_dataset('titanic')\n",
    "df.head()"
   ]
  },
  {
   "cell_type": "code",
   "execution_count": 3,
   "metadata": {},
   "outputs": [
    {
     "name": "stdout",
     "output_type": "stream",
     "text": [
      "<class 'pandas.core.frame.DataFrame'>\n",
      "RangeIndex: 891 entries, 0 to 890\n",
      "Data columns (total 15 columns):\n",
      " #   Column       Non-Null Count  Dtype   \n",
      "---  ------       --------------  -----   \n",
      " 0   survived     891 non-null    int64   \n",
      " 1   pclass       891 non-null    int64   \n",
      " 2   sex          891 non-null    object  \n",
      " 3   age          714 non-null    float64 \n",
      " 4   sibsp        891 non-null    int64   \n",
      " 5   parch        891 non-null    int64   \n",
      " 6   fare         891 non-null    float64 \n",
      " 7   embarked     889 non-null    object  \n",
      " 8   class        891 non-null    category\n",
      " 9   who          891 non-null    object  \n",
      " 10  adult_male   891 non-null    bool    \n",
      " 11  deck         203 non-null    category\n",
      " 12  embark_town  889 non-null    object  \n",
      " 13  alive        891 non-null    object  \n",
      " 14  alone        891 non-null    bool    \n",
      "dtypes: bool(2), category(2), float64(2), int64(4), object(5)\n",
      "memory usage: 80.7+ KB\n"
     ]
    }
   ],
   "source": [
    "df.info()"
   ]
  },
  {
   "cell_type": "code",
   "execution_count": 4,
   "metadata": {},
   "outputs": [
    {
     "name": "stdout",
     "output_type": "stream",
     "text": [
      "<class 'pandas.core.frame.DataFrame'>\n",
      "RangeIndex: 891 entries, 0 to 890\n",
      "Data columns (total 15 columns):\n",
      " #   Column       Non-Null Count  Dtype   \n",
      "---  ------       --------------  -----   \n",
      " 0   survived     891 non-null    int64   \n",
      " 1   pclass       891 non-null    int64   \n",
      " 2   sex          891 non-null    object  \n",
      " 3   age          891 non-null    float64 \n",
      " 4   sibsp        891 non-null    int64   \n",
      " 5   parch        891 non-null    int64   \n",
      " 6   fare         891 non-null    float64 \n",
      " 7   embarked     889 non-null    object  \n",
      " 8   class        891 non-null    category\n",
      " 9   who          891 non-null    object  \n",
      " 10  adult_male   891 non-null    bool    \n",
      " 11  deck         203 non-null    category\n",
      " 12  embark_town  889 non-null    object  \n",
      " 13  alive        891 non-null    object  \n",
      " 14  alone        891 non-null    bool    \n",
      "dtypes: bool(2), category(2), float64(2), int64(4), object(5)\n",
      "memory usage: 80.7+ KB\n"
     ]
    }
   ],
   "source": [
    "# replacing null values of age with median\n",
    "df['age'] = df['age'].fillna(df['age'].median())\n",
    "df.info()"
   ]
  },
  {
   "cell_type": "markdown",
   "metadata": {},
   "source": [
    "### One way anova : There is difference between ages of first, second and third class passengers\n",
    "Null Hypothesis: There is no differecne\\\n",
    "Alternative Hypothesis: There is difference"
   ]
  },
  {
   "cell_type": "code",
   "execution_count": 6,
   "metadata": {},
   "outputs": [
    {
     "data": {
      "text/html": [
       "<div>\n",
       "<style scoped>\n",
       "    .dataframe tbody tr th:only-of-type {\n",
       "        vertical-align: middle;\n",
       "    }\n",
       "\n",
       "    .dataframe tbody tr th {\n",
       "        vertical-align: top;\n",
       "    }\n",
       "\n",
       "    .dataframe thead th {\n",
       "        text-align: right;\n",
       "    }\n",
       "</style>\n",
       "<table border=\"1\" class=\"dataframe\">\n",
       "  <thead>\n",
       "    <tr style=\"text-align: right;\">\n",
       "      <th></th>\n",
       "      <th>sum_sq</th>\n",
       "      <th>df</th>\n",
       "      <th>F</th>\n",
       "      <th>PR(&gt;F)</th>\n",
       "    </tr>\n",
       "  </thead>\n",
       "  <tbody>\n",
       "    <tr>\n",
       "      <th>pclass</th>\n",
       "      <td>17429.695048</td>\n",
       "      <td>1.0</td>\n",
       "      <td>116.122704</td>\n",
       "      <td>1.558883e-25</td>\n",
       "    </tr>\n",
       "    <tr>\n",
       "      <th>Residual</th>\n",
       "      <td>133436.428421</td>\n",
       "      <td>889.0</td>\n",
       "      <td>NaN</td>\n",
       "      <td>NaN</td>\n",
       "    </tr>\n",
       "  </tbody>\n",
       "</table>\n",
       "</div>"
      ],
      "text/plain": [
       "                 sum_sq     df           F        PR(>F)\n",
       "pclass     17429.695048    1.0  116.122704  1.558883e-25\n",
       "Residual  133436.428421  889.0         NaN           NaN"
      ]
     },
     "execution_count": 6,
     "metadata": {},
     "output_type": "execute_result"
    }
   ],
   "source": [
    "# stats models\n",
    "import statsmodels.api as sm\n",
    "from statsmodels.formula.api import ols\n",
    "\n",
    "# Anova test for age and pclass\n",
    "model  = ols('age ~ pclass', data=df).fit()\n",
    "anova_table = sm.stats.anova_lm(model, typ=2)\n",
    "anova_table"
   ]
  },
  {
   "cell_type": "code",
   "execution_count": 7,
   "metadata": {},
   "outputs": [
    {
     "name": "stdout",
     "output_type": "stream",
     "text": [
      "The null hypothesis is rejected\n"
     ]
    },
    {
     "name": "stderr",
     "output_type": "stream",
     "text": [
      "C:\\Users\\UZAIR\\AppData\\Local\\Temp\\ipykernel_14704\\4247589303.py:2: FutureWarning: Series.__getitem__ treating keys as positions is deprecated. In a future version, integer keys will always be treated as labels (consistent with DataFrame behavior). To access a value by position, use `ser.iloc[pos]`\n",
      "  if anova_table['PR(>F)'][0] < 0.05:\n"
     ]
    }
   ],
   "source": [
    "# print the results based on if-else condition\n",
    "if anova_table['PR(>F)'][0] < 0.05:\n",
    "    print(\"The null hypothesis is rejected\")\n",
    "else:\n",
    "    print(\"The null hypothesis is accepted\")"
   ]
  },
  {
   "cell_type": "markdown",
   "metadata": {},
   "source": [
    "## Posthoc test"
   ]
  },
  {
   "cell_type": "code",
   "execution_count": 8,
   "metadata": {},
   "outputs": [
    {
     "data": {
      "text/html": [
       "<table class=\"simpletable\">\n",
       "<caption>Multiple Comparison of Means - Tukey HSD, FWER=0.05</caption>\n",
       "<tr>\n",
       "  <th>group1</th> <th>group2</th> <th>meandiff</th>  <th>p-adj</th>  <th>lower</th>   <th>upper</th>  <th>reject</th>\n",
       "</tr>\n",
       "<tr>\n",
       "     <td>1</td>      <td>2</td>    <td>-7.0467</td>   <td>0.0</td>  <td>-9.9299</td> <td>-4.1636</td>  <td>True</td> \n",
       "</tr>\n",
       "<tr>\n",
       "     <td>1</td>      <td>3</td>   <td>-10.8795</td>   <td>0.0</td>  <td>-13.226</td> <td>-8.533</td>   <td>True</td> \n",
       "</tr>\n",
       "<tr>\n",
       "     <td>2</td>      <td>3</td>    <td>-3.8328</td> <td>0.0009</td> <td>-6.3169</td> <td>-1.3486</td>  <td>True</td> \n",
       "</tr>\n",
       "</table>"
      ],
      "text/latex": [
       "\\begin{center}\n",
       "\\begin{tabular}{ccccccc}\n",
       "\\toprule\n",
       "\\textbf{group1} & \\textbf{group2} & \\textbf{meandiff} & \\textbf{p-adj} & \\textbf{lower} & \\textbf{upper} & \\textbf{reject}  \\\\\n",
       "\\midrule\n",
       "       1        &        2        &      -7.0467      &      0.0       &    -9.9299     &    -4.1636     &       True       \\\\\n",
       "       1        &        3        &      -10.8795     &      0.0       &    -13.226     &     -8.533     &       True       \\\\\n",
       "       2        &        3        &      -3.8328      &     0.0009     &    -6.3169     &    -1.3486     &       True       \\\\\n",
       "\\bottomrule\n",
       "\\end{tabular}\n",
       "%\\caption{Multiple Comparison of Means - Tukey HSD, FWER=0.05}\n",
       "\\end{center}"
      ],
      "text/plain": [
       "<class 'statsmodels.iolib.table.SimpleTable'>"
      ]
     },
     "execution_count": 8,
     "metadata": {},
     "output_type": "execute_result"
    }
   ],
   "source": [
    "# Tukecy HSD pairwise comparision\n",
    "from statsmodels.stats.multicomp import pairwise_tukeyhsd\n",
    "tuckey = pairwise_tukeyhsd(endog=df['age'], groups=df['pclass'], alpha=0.05)\n",
    "tuckey.summary()"
   ]
  },
  {
   "cell_type": "code",
   "execution_count": 9,
   "metadata": {},
   "outputs": [
    {
     "data": {
      "text/plain": [
       "<Axes: xlabel='pclass', ylabel='age'>"
      ]
     },
     "execution_count": 9,
     "metadata": {},
     "output_type": "execute_result"
    },
    {
     "data": {
      "image/png": "[encoded data removed]",
      "text/plain": [
       "<Figure size 640x480 with 1 Axes>"
      ]
     },
     "metadata": {},
     "output_type": "display_data"
    }
   ],
   "source": [
    "sns.barplot(x='pclass', y='age', data=df)"
   ]
  },
  {
   "cell_type": "markdown",
   "metadata": {},
   "source": [
    "## Two way anova"
   ]
  },
  {
   "cell_type": "code",
   "execution_count": 10,
   "metadata": {},
   "outputs": [
    {
     "data": {
      "text/html": [
       "<div>\n",
       "<style scoped>\n",
       "    .dataframe tbody tr th:only-of-type {\n",
       "        vertical-align: middle;\n",
       "    }\n",
       "\n",
       "    .dataframe tbody tr th {\n",
       "        vertical-align: top;\n",
       "    }\n",
       "\n",
       "    .dataframe thead th {\n",
       "        text-align: right;\n",
       "    }\n",
       "</style>\n",
       "<table border=\"1\" class=\"dataframe\">\n",
       "  <thead>\n",
       "    <tr style=\"text-align: right;\">\n",
       "      <th></th>\n",
       "      <th>sum_sq</th>\n",
       "      <th>df</th>\n",
       "      <th>F</th>\n",
       "      <th>PR(&gt;F)</th>\n",
       "    </tr>\n",
       "  </thead>\n",
       "  <tbody>\n",
       "    <tr>\n",
       "      <th>who</th>\n",
       "      <td>42921.503765</td>\n",
       "      <td>2.0</td>\n",
       "      <td>213.017404</td>\n",
       "      <td>3.006796e-76</td>\n",
       "    </tr>\n",
       "    <tr>\n",
       "      <th>pclass</th>\n",
       "      <td>11863.085431</td>\n",
       "      <td>1.0</td>\n",
       "      <td>117.751870</td>\n",
       "      <td>7.658356e-26</td>\n",
       "    </tr>\n",
       "    <tr>\n",
       "      <th>pclass:who</th>\n",
       "      <td>1354.296985</td>\n",
       "      <td>2.0</td>\n",
       "      <td>6.721312</td>\n",
       "      <td>1.267414e-03</td>\n",
       "    </tr>\n",
       "    <tr>\n",
       "      <th>Residual</th>\n",
       "      <td>89160.627671</td>\n",
       "      <td>885.0</td>\n",
       "      <td>NaN</td>\n",
       "      <td>NaN</td>\n",
       "    </tr>\n",
       "  </tbody>\n",
       "</table>\n",
       "</div>"
      ],
      "text/plain": [
       "                  sum_sq     df           F        PR(>F)\n",
       "who         42921.503765    2.0  213.017404  3.006796e-76\n",
       "pclass      11863.085431    1.0  117.751870  7.658356e-26\n",
       "pclass:who   1354.296985    2.0    6.721312  1.267414e-03\n",
       "Residual    89160.627671  885.0         NaN           NaN"
      ]
     },
     "execution_count": 10,
     "metadata": {},
     "output_type": "execute_result"
    }
   ],
   "source": [
    "import statsmodels.api as sm\n",
    "from statsmodels.formula.api import ols\n",
    "\n",
    "# Anova test for age and pclass\n",
    "model  = ols('age ~ pclass * who', data=df).fit()\n",
    "anova_table = sm.stats.anova_lm(model, typ=2)\n",
    "anova_table"
   ]
  },
  {
   "cell_type": "code",
   "execution_count": 11,
   "metadata": {},
   "outputs": [
    {
     "data": {
      "text/html": [
       "<table class=\"simpletable\">\n",
       "<caption>Multiple Comparison of Means - Tukey HSD, FWER=0.05</caption>\n",
       "<tr>\n",
       "      <th>group1</th>          <th>group2</th>      <th>meandiff</th>  <th>p-adj</th>   <th>lower</th>   <th>upper</th>  <th>reject</th>\n",
       "</tr>\n",
       "<tr>\n",
       "       <td>child</td>        <td>childchild</td>     <td>-3.2763</td> <td>0.9988</td> <td>-17.8994</td> <td>11.3468</td>  <td>False</td>\n",
       "</tr>\n",
       "<tr>\n",
       "       <td>child</td>      <td>childchildchild</td>  <td>-1.0024</td>   <td>1.0</td>  <td>-14.3937</td> <td>12.3889</td>  <td>False</td>\n",
       "</tr>\n",
       "<tr>\n",
       "       <td>child</td>            <td>man</td>        <td>32.0245</td>   <td>0.0</td>   <td>18.959</td>  <td>45.0901</td>  <td>True</td> \n",
       "</tr>\n",
       "<tr>\n",
       "       <td>child</td>          <td>manman</td>       <td>25.2608</td>   <td>0.0</td>   <td>12.1321</td> <td>38.3895</td>  <td>True</td> \n",
       "</tr>\n",
       "<tr>\n",
       "       <td>child</td>         <td>manmanman</td>     <td>20.8822</td>   <td>0.0</td>   <td>8.0148</td>  <td>33.7496</td>  <td>True</td> \n",
       "</tr>\n",
       "<tr>\n",
       "       <td>child</td>           <td>woman</td>       <td>26.9382</td>   <td>0.0</td>   <td>13.7766</td> <td>40.0999</td>  <td>True</td> \n",
       "</tr>\n",
       "<tr>\n",
       "       <td>child</td>        <td>womanwoman</td>     <td>24.233</td>    <td>0.0</td>   <td>10.9181</td> <td>37.548</td>   <td>True</td> \n",
       "</tr>\n",
       "<tr>\n",
       "       <td>child</td>      <td>womanwomanwoman</td>  <td>20.0879</td> <td>0.0001</td>  <td>7.0086</td>  <td>33.1672</td>  <td>True</td> \n",
       "</tr>\n",
       "<tr>\n",
       "    <td>childchild</td>    <td>childchildchild</td>  <td>2.2739</td>   <td>0.995</td>  <td>-5.9803</td> <td>10.5281</td>  <td>False</td>\n",
       "</tr>\n",
       "<tr>\n",
       "    <td>childchild</td>          <td>man</td>        <td>35.3009</td>   <td>0.0</td>   <td>27.5863</td> <td>43.0154</td>  <td>True</td> \n",
       "</tr>\n",
       "<tr>\n",
       "    <td>childchild</td>        <td>manman</td>       <td>28.5371</td>   <td>0.0</td>   <td>20.716</td>  <td>36.3582</td>  <td>True</td> \n",
       "</tr>\n",
       "<tr>\n",
       "    <td>childchild</td>       <td>manmanman</td>     <td>24.1585</td>   <td>0.0</td>   <td>16.7844</td> <td>31.5326</td>  <td>True</td> \n",
       "</tr>\n",
       "<tr>\n",
       "    <td>childchild</td>         <td>woman</td>       <td>30.2146</td>   <td>0.0</td>   <td>22.3383</td> <td>38.0908</td>  <td>True</td> \n",
       "</tr>\n",
       "<tr>\n",
       "    <td>childchild</td>      <td>womanwoman</td>     <td>27.5093</td>   <td>0.0</td>   <td>19.3795</td> <td>35.6392</td>  <td>True</td> \n",
       "</tr>\n",
       "<tr>\n",
       "    <td>childchild</td>    <td>womanwomanwoman</td>  <td>23.3642</td>   <td>0.0</td>   <td>15.6264</td> <td>31.102</td>   <td>True</td> \n",
       "</tr>\n",
       "<tr>\n",
       "  <td>childchildchild</td>       <td>man</td>        <td>33.027</td>    <td>0.0</td>   <td>28.0264</td> <td>38.0275</td>  <td>True</td> \n",
       "</tr>\n",
       "<tr>\n",
       "  <td>childchildchild</td>     <td>manman</td>       <td>26.2632</td>   <td>0.0</td>   <td>21.0998</td> <td>31.4267</td>  <td>True</td> \n",
       "</tr>\n",
       "<tr>\n",
       "  <td>childchildchild</td>    <td>manmanman</td>     <td>21.8846</td>   <td>0.0</td>   <td>17.4272</td> <td>26.342</td>   <td>True</td> \n",
       "</tr>\n",
       "<tr>\n",
       "  <td>childchildchild</td>      <td>woman</td>       <td>27.9407</td>   <td>0.0</td>   <td>22.694</td>  <td>33.1873</td>  <td>True</td> \n",
       "</tr>\n",
       "<tr>\n",
       "  <td>childchildchild</td>   <td>womanwoman</td>     <td>25.2354</td>   <td>0.0</td>   <td>19.6153</td> <td>30.8556</td>  <td>True</td> \n",
       "</tr>\n",
       "<tr>\n",
       "  <td>childchildchild</td> <td>womanwomanwoman</td>  <td>21.0903</td>   <td>0.0</td>   <td>16.0539</td> <td>26.1267</td>  <td>True</td> \n",
       "</tr>\n",
       "<tr>\n",
       "        <td>man</td>           <td>manman</td>       <td>-6.7637</td>   <td>0.0</td>  <td>-11.0115</td> <td>-2.516</td>   <td>True</td> \n",
       "</tr>\n",
       "<tr>\n",
       "        <td>man</td>          <td>manmanman</td>    <td>-11.1423</td>   <td>0.0</td>  <td>-14.4965</td> <td>-7.7881</td>  <td>True</td> \n",
       "</tr>\n",
       "<tr>\n",
       "        <td>man</td>            <td>woman</td>       <td>-5.0863</td> <td>0.0089</td>  <td>-9.4348</td> <td>-0.7378</td>  <td>True</td> \n",
       "</tr>\n",
       "<tr>\n",
       "        <td>man</td>         <td>womanwoman</td>     <td>-7.7915</td>   <td>0.0</td>   <td>-12.584</td> <td>-2.999</td>   <td>True</td> \n",
       "</tr>\n",
       "<tr>\n",
       "        <td>man</td>       <td>womanwomanwoman</td> <td>-11.9366</td>   <td>0.0</td>   <td>-16.029</td> <td>-7.8443</td>  <td>True</td> \n",
       "</tr>\n",
       "<tr>\n",
       "      <td>manman</td>         <td>manmanman</td>     <td>-4.3786</td>  <td>0.005</td>  <td>-7.9711</td> <td>-0.7861</td>  <td>True</td> \n",
       "</tr>\n",
       "<tr>\n",
       "      <td>manman</td>           <td>woman</td>       <td>1.6774</td>  <td>0.9662</td>  <td>-2.8574</td> <td>6.2123</td>   <td>False</td>\n",
       "</tr>\n",
       "<tr>\n",
       "      <td>manman</td>        <td>womanwoman</td>     <td>-1.0278</td> <td>0.9993</td>   <td>-5.99</td>  <td>3.9344</td>   <td>False</td>\n",
       "</tr>\n",
       "<tr>\n",
       "      <td>manman</td>      <td>womanwomanwoman</td>  <td>-5.1729</td> <td>0.0059</td>  <td>-9.4628</td> <td>-0.8831</td>  <td>True</td> \n",
       "</tr>\n",
       "<tr>\n",
       "     <td>manmanman</td>         <td>woman</td>        <td>6.056</td>    <td>0.0</td>    <td>2.345</td>  <td>9.7671</td>   <td>True</td> \n",
       "</tr>\n",
       "<tr>\n",
       "     <td>manmanman</td>      <td>womanwoman</td>     <td>3.3508</td>  <td>0.2494</td>  <td>-0.8718</td> <td>7.5735</td>   <td>False</td>\n",
       "</tr>\n",
       "<tr>\n",
       "     <td>manmanman</td>    <td>womanwomanwoman</td>  <td>-0.7943</td> <td>0.9984</td>  <td>-4.2017</td> <td>2.6131</td>   <td>False</td>\n",
       "</tr>\n",
       "<tr>\n",
       "       <td>woman</td>        <td>womanwoman</td>     <td>-2.7052</td> <td>0.7671</td>  <td>-7.7539</td> <td>2.3435</td>   <td>False</td>\n",
       "</tr>\n",
       "<tr>\n",
       "       <td>woman</td>      <td>womanwomanwoman</td>  <td>-6.8503</td> <td>0.0001</td> <td>-11.2399</td> <td>-2.4607</td>  <td>True</td> \n",
       "</tr>\n",
       "<tr>\n",
       "    <td>womanwoman</td>    <td>womanwomanwoman</td>  <td>-4.1451</td> <td>0.1606</td>  <td>-8.975</td>  <td>0.6847</td>   <td>False</td>\n",
       "</tr>\n",
       "</table>"
      ],
      "text/latex": [
       "\\begin{center}\n",
       "\\begin{tabular}{ccccccc}\n",
       "\\toprule\n",
       "\\textbf{group1} & \\textbf{group2} & \\textbf{meandiff} & \\textbf{p-adj} & \\textbf{lower} & \\textbf{upper} & \\textbf{reject}  \\\\\n",
       "\\midrule\n",
       "     child      &    childchild   &      -3.2763      &     0.9988     &    -17.8994    &    11.3468     &      False       \\\\\n",
       "     child      & childchildchild &      -1.0024      &      1.0       &    -14.3937    &    12.3889     &      False       \\\\\n",
       "     child      &       man       &      32.0245      &      0.0       &     18.959     &    45.0901     &       True       \\\\\n",
       "     child      &      manman     &      25.2608      &      0.0       &    12.1321     &    38.3895     &       True       \\\\\n",
       "     child      &    manmanman    &      20.8822      &      0.0       &     8.0148     &    33.7496     &       True       \\\\\n",
       "     child      &      woman      &      26.9382      &      0.0       &    13.7766     &    40.0999     &       True       \\\\\n",
       "     child      &    womanwoman   &       24.233      &      0.0       &    10.9181     &     37.548     &       True       \\\\\n",
       "     child      & womanwomanwoman &      20.0879      &     0.0001     &     7.0086     &    33.1672     &       True       \\\\\n",
       "   childchild   & childchildchild &       2.2739      &     0.995      &    -5.9803     &    10.5281     &      False       \\\\\n",
       "   childchild   &       man       &      35.3009      &      0.0       &    27.5863     &    43.0154     &       True       \\\\\n",
       "   childchild   &      manman     &      28.5371      &      0.0       &     20.716     &    36.3582     &       True       \\\\\n",
       "   childchild   &    manmanman    &      24.1585      &      0.0       &    16.7844     &    31.5326     &       True       \\\\\n",
       "   childchild   &      woman      &      30.2146      &      0.0       &    22.3383     &    38.0908     &       True       \\\\\n",
       "   childchild   &    womanwoman   &      27.5093      &      0.0       &    19.3795     &    35.6392     &       True       \\\\\n",
       "   childchild   & womanwomanwoman &      23.3642      &      0.0       &    15.6264     &     31.102     &       True       \\\\\n",
       "childchildchild &       man       &       33.027      &      0.0       &    28.0264     &    38.0275     &       True       \\\\\n",
       "childchildchild &      manman     &      26.2632      &      0.0       &    21.0998     &    31.4267     &       True       \\\\\n",
       "childchildchild &    manmanman    &      21.8846      &      0.0       &    17.4272     &     26.342     &       True       \\\\\n",
       "childchildchild &      woman      &      27.9407      &      0.0       &     22.694     &    33.1873     &       True       \\\\\n",
       "childchildchild &    womanwoman   &      25.2354      &      0.0       &    19.6153     &    30.8556     &       True       \\\\\n",
       "childchildchild & womanwomanwoman &      21.0903      &      0.0       &    16.0539     &    26.1267     &       True       \\\\\n",
       "      man       &      manman     &      -6.7637      &      0.0       &    -11.0115    &     -2.516     &       True       \\\\\n",
       "      man       &    manmanman    &      -11.1423     &      0.0       &    -14.4965    &    -7.7881     &       True       \\\\\n",
       "      man       &      woman      &      -5.0863      &     0.0089     &    -9.4348     &    -0.7378     &       True       \\\\\n",
       "      man       &    womanwoman   &      -7.7915      &      0.0       &    -12.584     &     -2.999     &       True       \\\\\n",
       "      man       & womanwomanwoman &      -11.9366     &      0.0       &    -16.029     &    -7.8443     &       True       \\\\\n",
       "     manman     &    manmanman    &      -4.3786      &     0.005      &    -7.9711     &    -0.7861     &       True       \\\\\n",
       "     manman     &      woman      &       1.6774      &     0.9662     &    -2.8574     &     6.2123     &      False       \\\\\n",
       "     manman     &    womanwoman   &      -1.0278      &     0.9993     &     -5.99      &     3.9344     &      False       \\\\\n",
       "     manman     & womanwomanwoman &      -5.1729      &     0.0059     &    -9.4628     &    -0.8831     &       True       \\\\\n",
       "   manmanman    &      woman      &       6.056       &      0.0       &     2.345      &     9.7671     &       True       \\\\\n",
       "   manmanman    &    womanwoman   &       3.3508      &     0.2494     &    -0.8718     &     7.5735     &      False       \\\\\n",
       "   manmanman    & womanwomanwoman &      -0.7943      &     0.9984     &    -4.2017     &     2.6131     &      False       \\\\\n",
       "     woman      &    womanwoman   &      -2.7052      &     0.7671     &    -7.7539     &     2.3435     &      False       \\\\\n",
       "     woman      & womanwomanwoman &      -6.8503      &     0.0001     &    -11.2399    &    -2.4607     &       True       \\\\\n",
       "   womanwoman   & womanwomanwoman &      -4.1451      &     0.1606     &     -8.975     &     0.6847     &      False       \\\\\n",
       "\\bottomrule\n",
       "\\end{tabular}\n",
       "%\\caption{Multiple Comparison of Means - Tukey HSD, FWER=0.05}\n",
       "\\end{center}"
      ],
      "text/plain": [
       "<class 'statsmodels.iolib.table.SimpleTable'>"
      ]
     },
     "execution_count": 11,
     "metadata": {},
     "output_type": "execute_result"
    }
   ],
   "source": [
    "# posthoc test\n",
    "# Tukecy HSD pairwise comparision\n",
    "from statsmodels.stats.multicomp import pairwise_tukeyhsd\n",
    "tuckey = pairwise_tukeyhsd(df['age'], df['pclass'] * df['who'], alpha=0.05)\n",
    "tuckey.summary()"
   ]
  },
  {
   "cell_type": "code",
   "execution_count": null,
   "metadata": {},
   "outputs": [],
   "source": []
  }
 ],
 "metadata": {
  "kernelspec": {
   "display_name": "base",
   "language": "python",
   "name": "python3"
  },
  "language_info": {
   "codemirror_mode": {
    "name": "ipython",
    "version": 3
   },
   "file_extension": ".py",
   "mimetype": "text/x-python",
   "name": "python",
   "nbconvert_exporter": "python",
   "pygments_lexer": "ipython3",
   "version": "3.12.2"
  }
 },
 "nbformat": 4,
 "nbformat_minor": 2
}
